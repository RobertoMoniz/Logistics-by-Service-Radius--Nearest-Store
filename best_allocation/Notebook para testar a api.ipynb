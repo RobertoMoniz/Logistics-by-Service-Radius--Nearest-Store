{
 "cells": [
  {
   "cell_type": "code",
   "execution_count": 81,
   "id": "867c06d5",
   "metadata": {},
   "outputs": [
    {
     "name": "stdout",
     "output_type": "stream",
     "text": [
      "The autoreload extension is already loaded. To reload it, use:\n",
      "  %reload_ext autoreload\n"
     ]
    }
   ],
   "source": [
    "from api.ml_logic.data_treatment import get_data, partition_data\n",
    "from api.ml_logic.area_definition import define_area\n",
    "from api.ml_logic.demmand_forecasting import prophet_predict, predict_demmand\n",
    "from api.ml_logic.optimization import best_areas\n",
    "import warnings\n",
    "warnings.filterwarnings('ignore')\n",
    "\n",
    "import datetime as dt\n",
    "import pandas as pd\n",
    "from prophet import Prophet\n",
    "import math\n",
    "\n",
    "%load_ext autoreload\n",
    "%autoreload 2"
   ]
  },
  {
   "cell_type": "code",
   "execution_count": 2,
   "id": "b110ddd4",
   "metadata": {},
   "outputs": [],
   "source": [
    "df = get_data()"
   ]
  },
  {
   "cell_type": "code",
   "execution_count": 3,
   "id": "da75635d",
   "metadata": {},
   "outputs": [],
   "source": [
    "hub = 'São Cristóvão'"
   ]
  },
  {
   "cell_type": "code",
   "execution_count": 4,
   "id": "ecb895e3",
   "metadata": {},
   "outputs": [],
   "source": [
    "df = df=partition_data(df, hub)"
   ]
  },
  {
   "cell_type": "code",
   "execution_count": 5,
   "id": "e3560c3b",
   "metadata": {},
   "outputs": [],
   "source": [
    "df=define_area(df,hub)"
   ]
  },
  {
   "cell_type": "code",
   "execution_count": 8,
   "id": "66816b22",
   "metadata": {},
   "outputs": [
    {
     "name": "stderr",
     "output_type": "stream",
     "text": [
      "17:56:10 - cmdstanpy - INFO - Chain [1] start processing\n",
      "17:56:10 - cmdstanpy - INFO - Chain [1] done processing\n",
      "17:56:11 - cmdstanpy - INFO - Chain [1] start processing\n",
      "17:56:11 - cmdstanpy - INFO - Chain [1] done processing\n",
      "17:56:11 - cmdstanpy - INFO - Chain [1] start processing\n",
      "17:56:11 - cmdstanpy - INFO - Chain [1] done processing\n",
      "17:56:12 - cmdstanpy - INFO - Chain [1] start processing\n",
      "17:56:12 - cmdstanpy - INFO - Chain [1] done processing\n",
      "17:56:12 - cmdstanpy - INFO - Chain [1] start processing\n",
      "17:56:12 - cmdstanpy - INFO - Chain [1] done processing\n",
      "17:56:13 - cmdstanpy - INFO - Chain [1] start processing\n",
      "17:56:13 - cmdstanpy - INFO - Chain [1] done processing\n",
      "17:56:13 - cmdstanpy - INFO - Chain [1] start processing\n",
      "17:56:13 - cmdstanpy - INFO - Chain [1] done processing\n",
      "17:56:14 - cmdstanpy - INFO - Chain [1] start processing\n",
      "17:56:14 - cmdstanpy - INFO - Chain [1] done processing\n",
      "17:56:14 - cmdstanpy - INFO - Chain [1] start processing\n",
      "17:56:14 - cmdstanpy - INFO - Chain [1] done processing\n",
      "17:56:15 - cmdstanpy - INFO - Chain [1] start processing\n",
      "17:56:15 - cmdstanpy - INFO - Chain [1] done processing\n",
      "17:56:15 - cmdstanpy - INFO - Chain [1] start processing\n",
      "17:56:15 - cmdstanpy - INFO - Chain [1] done processing\n",
      "17:56:16 - cmdstanpy - INFO - Chain [1] start processing\n",
      "17:56:16 - cmdstanpy - INFO - Chain [1] done processing\n",
      "17:56:16 - cmdstanpy - INFO - Chain [1] start processing\n",
      "17:56:16 - cmdstanpy - INFO - Chain [1] done processing\n",
      "17:56:17 - cmdstanpy - INFO - Chain [1] start processing\n",
      "17:56:17 - cmdstanpy - INFO - Chain [1] done processing\n",
      "17:56:17 - cmdstanpy - INFO - Chain [1] start processing\n",
      "17:56:17 - cmdstanpy - INFO - Chain [1] done processing\n"
     ]
    }
   ],
   "source": [
    "prediction = prophet_predict(df)"
   ]
  },
  {
   "cell_type": "markdown",
   "id": "4ae89a8e",
   "metadata": {},
   "source": [
    "tratando o big frame"
   ]
  },
  {
   "cell_type": "code",
   "execution_count": 33,
   "id": "925dc5ee",
   "metadata": {},
   "outputs": [],
   "source": [
    "date=pd.to_datetime('08/10/2022',dayfirst=True,)"
   ]
  },
  {
   "cell_type": "code",
   "execution_count": 83,
   "id": "1cdc26ae",
   "metadata": {},
   "outputs": [],
   "source": [
    "daily_demmand = predict_demmand(prediction, date)"
   ]
  },
  {
   "cell_type": "code",
   "execution_count": 92,
   "id": "9a740e6e",
   "metadata": {},
   "outputs": [],
   "source": [
    "ideal_areas = best_areas(daily_demmand,8)"
   ]
  },
  {
   "cell_type": "code",
   "execution_count": null,
   "id": "2037ac69",
   "metadata": {},
   "outputs": [],
   "source": []
  }
 ],
 "metadata": {
  "kernelspec": {
   "display_name": "Python 3 (ipykernel)",
   "language": "python",
   "name": "python3"
  },
  "language_info": {
   "codemirror_mode": {
    "name": "ipython",
    "version": 3
   },
   "file_extension": ".py",
   "mimetype": "text/x-python",
   "name": "python",
   "nbconvert_exporter": "python",
   "pygments_lexer": "ipython3",
   "version": "3.8.12"
  },
  "toc": {
   "base_numbering": 1,
   "nav_menu": {},
   "number_sections": true,
   "sideBar": true,
   "skip_h1_title": false,
   "title_cell": "Table of Contents",
   "title_sidebar": "Contents",
   "toc_cell": false,
   "toc_position": {},
   "toc_section_display": true,
   "toc_window_display": false
  }
 },
 "nbformat": 4,
 "nbformat_minor": 5
}
