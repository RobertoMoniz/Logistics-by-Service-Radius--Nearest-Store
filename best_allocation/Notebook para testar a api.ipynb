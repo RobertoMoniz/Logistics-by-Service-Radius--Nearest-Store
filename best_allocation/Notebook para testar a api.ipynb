{
 "cells": [
  {
   "cell_type": "code",
   "execution_count": 2,
   "id": "867c06d5",
   "metadata": {},
   "outputs": [
    {
     "name": "stderr",
     "output_type": "stream",
     "text": [
      "/home/matheus/.pyenv/versions/3.8.12/envs/lewagon/lib/python3.8/site-packages/scipy/__init__.py:146: UserWarning: A NumPy version >=1.16.5 and <1.23.0 is required for this version of SciPy (detected version 1.23.4\n",
      "  warnings.warn(f\"A NumPy version >={np_minversion} and <{np_maxversion}\"\n"
     ]
    }
   ],
   "source": [
    "from api.ml_logic.data_treatment import get_data, partition_data\n",
    "from api.ml_logic.area_definition import define_area\n",
    "import warnings\n",
    "warnings.filterwarnings('ignore')\n",
    "\n",
    "import datetime as dt\n",
    "import pandas as pd\n",
    "from prophet import Prophet\n",
    "\n",
    "\n",
    "%load_ext autoreload\n",
    "%autoreload 2"
   ]
  },
  {
   "cell_type": "code",
   "execution_count": 3,
   "id": "b110ddd4",
   "metadata": {},
   "outputs": [],
   "source": [
    "big_frame = get_data()"
   ]
  },
  {
   "cell_type": "markdown",
   "id": "4ae89a8e",
   "metadata": {},
   "source": [
    "tratando o big frame"
   ]
  },
  {
   "cell_type": "code",
   "execution_count": 4,
   "id": "139f8e62",
   "metadata": {},
   "outputs": [],
   "source": [
    "X = big_frame[['latitude','longitude','hub']].dropna()"
   ]
  },
  {
   "cell_type": "code",
   "execution_count": 5,
   "id": "34bbd9d8",
   "metadata": {},
   "outputs": [],
   "source": [
    "big_frame.drop(columns='hub',inplace=True)"
   ]
  },
  {
   "cell_type": "code",
   "execution_count": 6,
   "id": "d6ee8345",
   "metadata": {},
   "outputs": [],
   "source": [
    "big_frame.dropna(inplace=True)"
   ]
  },
  {
   "cell_type": "code",
   "execution_count": 7,
   "id": "fba72bf2",
   "metadata": {},
   "outputs": [],
   "source": [
    "from sklearn.neighbors import KNeighborsClassifier"
   ]
  },
  {
   "cell_type": "code",
   "execution_count": 8,
   "id": "eb1d274e",
   "metadata": {},
   "outputs": [],
   "source": [
    "X['hub'] = X['hub'].map({'Vila Olímpia':0, 'São Bernardo do Campo':1, 'São Cristóvão':2,\n",
    "       'Alphaville':3, 'Tatuapé':4, 'Cabo Frio':5, 'Barra':6, 'Curitiba':7,\n",
    "       'Vitória':8, 'Brasília':9, 'Recife':10, 'Campinas':11})"
   ]
  },
  {
   "cell_type": "code",
   "execution_count": 9,
   "id": "ef87aa9c",
   "metadata": {},
   "outputs": [],
   "source": [
    "y = X['hub']\n",
    "X = X.drop(columns='hub')"
   ]
  },
  {
   "cell_type": "code",
   "execution_count": 10,
   "id": "6436a14d",
   "metadata": {},
   "outputs": [],
   "source": [
    "model = KNeighborsClassifier(n_neighbors=3)"
   ]
  },
  {
   "cell_type": "code",
   "execution_count": 11,
   "id": "e9cfccf0",
   "metadata": {},
   "outputs": [],
   "source": [
    "import pickle"
   ]
  },
  {
   "cell_type": "code",
   "execution_count": 12,
   "id": "b0a76ad5",
   "metadata": {},
   "outputs": [
    {
     "data": {
      "text/html": [
       "<style>#sk-container-id-1 {color: black;background-color: white;}#sk-container-id-1 pre{padding: 0;}#sk-container-id-1 div.sk-toggleable {background-color: white;}#sk-container-id-1 label.sk-toggleable__label {cursor: pointer;display: block;width: 100%;margin-bottom: 0;padding: 0.3em;box-sizing: border-box;text-align: center;}#sk-container-id-1 label.sk-toggleable__label-arrow:before {content: \"▸\";float: left;margin-right: 0.25em;color: #696969;}#sk-container-id-1 label.sk-toggleable__label-arrow:hover:before {color: black;}#sk-container-id-1 div.sk-estimator:hover label.sk-toggleable__label-arrow:before {color: black;}#sk-container-id-1 div.sk-toggleable__content {max-height: 0;max-width: 0;overflow: hidden;text-align: left;background-color: #f0f8ff;}#sk-container-id-1 div.sk-toggleable__content pre {margin: 0.2em;color: black;border-radius: 0.25em;background-color: #f0f8ff;}#sk-container-id-1 input.sk-toggleable__control:checked~div.sk-toggleable__content {max-height: 200px;max-width: 100%;overflow: auto;}#sk-container-id-1 input.sk-toggleable__control:checked~label.sk-toggleable__label-arrow:before {content: \"▾\";}#sk-container-id-1 div.sk-estimator input.sk-toggleable__control:checked~label.sk-toggleable__label {background-color: #d4ebff;}#sk-container-id-1 div.sk-label input.sk-toggleable__control:checked~label.sk-toggleable__label {background-color: #d4ebff;}#sk-container-id-1 input.sk-hidden--visually {border: 0;clip: rect(1px 1px 1px 1px);clip: rect(1px, 1px, 1px, 1px);height: 1px;margin: -1px;overflow: hidden;padding: 0;position: absolute;width: 1px;}#sk-container-id-1 div.sk-estimator {font-family: monospace;background-color: #f0f8ff;border: 1px dotted black;border-radius: 0.25em;box-sizing: border-box;margin-bottom: 0.5em;}#sk-container-id-1 div.sk-estimator:hover {background-color: #d4ebff;}#sk-container-id-1 div.sk-parallel-item::after {content: \"\";width: 100%;border-bottom: 1px solid gray;flex-grow: 1;}#sk-container-id-1 div.sk-label:hover label.sk-toggleable__label {background-color: #d4ebff;}#sk-container-id-1 div.sk-serial::before {content: \"\";position: absolute;border-left: 1px solid gray;box-sizing: border-box;top: 0;bottom: 0;left: 50%;z-index: 0;}#sk-container-id-1 div.sk-serial {display: flex;flex-direction: column;align-items: center;background-color: white;padding-right: 0.2em;padding-left: 0.2em;position: relative;}#sk-container-id-1 div.sk-item {position: relative;z-index: 1;}#sk-container-id-1 div.sk-parallel {display: flex;align-items: stretch;justify-content: center;background-color: white;position: relative;}#sk-container-id-1 div.sk-item::before, #sk-container-id-1 div.sk-parallel-item::before {content: \"\";position: absolute;border-left: 1px solid gray;box-sizing: border-box;top: 0;bottom: 0;left: 50%;z-index: -1;}#sk-container-id-1 div.sk-parallel-item {display: flex;flex-direction: column;z-index: 1;position: relative;background-color: white;}#sk-container-id-1 div.sk-parallel-item:first-child::after {align-self: flex-end;width: 50%;}#sk-container-id-1 div.sk-parallel-item:last-child::after {align-self: flex-start;width: 50%;}#sk-container-id-1 div.sk-parallel-item:only-child::after {width: 0;}#sk-container-id-1 div.sk-dashed-wrapped {border: 1px dashed gray;margin: 0 0.4em 0.5em 0.4em;box-sizing: border-box;padding-bottom: 0.4em;background-color: white;}#sk-container-id-1 div.sk-label label {font-family: monospace;font-weight: bold;display: inline-block;line-height: 1.2em;}#sk-container-id-1 div.sk-label-container {text-align: center;}#sk-container-id-1 div.sk-container {/* jupyter's `normalize.less` sets `[hidden] { display: none; }` but bootstrap.min.css set `[hidden] { display: none !important; }` so we also need the `!important` here to be able to override the default hidden behavior on the sphinx rendered scikit-learn.org. See: https://github.com/scikit-learn/scikit-learn/issues/21755 */display: inline-block !important;position: relative;}#sk-container-id-1 div.sk-text-repr-fallback {display: none;}</style><div id=\"sk-container-id-1\" class=\"sk-top-container\"><div class=\"sk-text-repr-fallback\"><pre>KNeighborsClassifier(n_neighbors=3)</pre><b>In a Jupyter environment, please rerun this cell to show the HTML representation or trust the notebook. <br />On GitHub, the HTML representation is unable to render, please try loading this page with nbviewer.org.</b></div><div class=\"sk-container\" hidden><div class=\"sk-item\"><div class=\"sk-estimator sk-toggleable\"><input class=\"sk-toggleable__control sk-hidden--visually\" id=\"sk-estimator-id-1\" type=\"checkbox\" checked><label for=\"sk-estimator-id-1\" class=\"sk-toggleable__label sk-toggleable__label-arrow\">KNeighborsClassifier</label><div class=\"sk-toggleable__content\"><pre>KNeighborsClassifier(n_neighbors=3)</pre></div></div></div></div></div>"
      ],
      "text/plain": [
       "KNeighborsClassifier(n_neighbors=3)"
      ]
     },
     "execution_count": 12,
     "metadata": {},
     "output_type": "execute_result"
    }
   ],
   "source": [
    "model.fit(X,y)"
   ]
  },
  {
   "cell_type": "code",
   "execution_count": 14,
   "id": "8cdaf8e9",
   "metadata": {},
   "outputs": [],
   "source": [
    "filename = f'KNN.sav'\n",
    "pickle.dump(model, open(filename, 'wb'))"
   ]
  },
  {
   "cell_type": "code",
   "execution_count": 40,
   "id": "d0ee38ec",
   "metadata": {},
   "outputs": [],
   "source": [
    "big_frame['hub']=model.predict(big_frame[['latitude','longitude']])"
   ]
  },
  {
   "cell_type": "code",
   "execution_count": 42,
   "id": "372494b2",
   "metadata": {},
   "outputs": [],
   "source": [
    "big_frame['hub'] = big_frame['hub'].map({0:'Vila Olímpia', 1:'São Bernardo do Campo', 2:'São Cristóvão',\n",
    "       3:'Alphaville', 4:'Tatuapé', 5:'Cabo Frio', 6:'Barra', 7:'Curitiba',\n",
    "       8:'Vitória', 9:'Brasília', 10:'Recife', 11:'Campinas'})"
   ]
  },
  {
   "cell_type": "code",
   "execution_count": 43,
   "id": "0c43debf",
   "metadata": {},
   "outputs": [],
   "source": [
    "df = partition_data(big_frame,'São Cristóvão')"
   ]
  },
  {
   "cell_type": "code",
   "execution_count": 44,
   "id": "727416cb",
   "metadata": {},
   "outputs": [],
   "source": [
    "df = define_area(df,'São Cristóvão')"
   ]
  },
  {
   "cell_type": "markdown",
   "id": "e6259420",
   "metadata": {},
   "source": [
    "Início dos testes"
   ]
  },
  {
   "cell_type": "code",
   "execution_count": 45,
   "id": "757f5aa5",
   "metadata": {},
   "outputs": [],
   "source": [
    "df['event_date'] = pd.to_datetime(df['event_date']).dt.date"
   ]
  },
  {
   "cell_type": "code",
   "execution_count": 46,
   "id": "c3340895",
   "metadata": {},
   "outputs": [],
   "source": [
    "df = df[['event_date','area_id','user_id']].groupby(by=['event_date','area_id'],as_index=False).count()\n",
    "df = df.rename(columns={'event_date': 'ds', 'user_id': 'y'})"
   ]
  },
  {
   "cell_type": "code",
   "execution_count": 82,
   "id": "1139a431",
   "metadata": {},
   "outputs": [],
   "source": [
    "max_date = df['ds'].max()"
   ]
  },
  {
   "cell_type": "code",
   "execution_count": 74,
   "id": "880801fd",
   "metadata": {},
   "outputs": [],
   "source": [
    "areas = df['area_id'].unique()"
   ]
  },
  {
   "cell_type": "code",
   "execution_count": 75,
   "id": "6abdb78d",
   "metadata": {},
   "outputs": [],
   "source": [
    "areas.sort()"
   ]
  },
  {
   "cell_type": "code",
   "execution_count": 76,
   "id": "3aef7060",
   "metadata": {},
   "outputs": [
    {
     "data": {
      "text/plain": [
       "array([ 0,  1,  2,  3,  4,  5,  6,  7,  8,  9, 10, 11, 12, 13, 14])"
      ]
     },
     "execution_count": 76,
     "metadata": {},
     "output_type": "execute_result"
    }
   ],
   "source": [
    "areas"
   ]
  },
  {
   "cell_type": "code",
   "execution_count": 77,
   "id": "3d11ced5",
   "metadata": {},
   "outputs": [
    {
     "name": "stderr",
     "output_type": "stream",
     "text": [
      "11:41:02 - cmdstanpy - INFO - Chain [1] start processing\n",
      "11:41:02 - cmdstanpy - INFO - Chain [1] done processing\n",
      "11:41:03 - cmdstanpy - INFO - Chain [1] start processing\n",
      "11:41:03 - cmdstanpy - INFO - Chain [1] done processing\n",
      "11:41:04 - cmdstanpy - INFO - Chain [1] start processing\n",
      "11:41:04 - cmdstanpy - INFO - Chain [1] done processing\n",
      "11:41:05 - cmdstanpy - INFO - Chain [1] start processing\n",
      "11:41:05 - cmdstanpy - INFO - Chain [1] done processing\n",
      "11:41:05 - cmdstanpy - INFO - Chain [1] start processing\n",
      "11:41:06 - cmdstanpy - INFO - Chain [1] done processing\n",
      "11:41:06 - cmdstanpy - INFO - Chain [1] start processing\n",
      "11:41:06 - cmdstanpy - INFO - Chain [1] done processing\n",
      "11:41:07 - cmdstanpy - INFO - Chain [1] start processing\n",
      "11:41:07 - cmdstanpy - INFO - Chain [1] done processing\n",
      "11:41:08 - cmdstanpy - INFO - Chain [1] start processing\n",
      "11:41:08 - cmdstanpy - INFO - Chain [1] done processing\n",
      "11:41:09 - cmdstanpy - INFO - Chain [1] start processing\n",
      "11:41:09 - cmdstanpy - INFO - Chain [1] done processing\n",
      "11:41:10 - cmdstanpy - INFO - Chain [1] start processing\n",
      "11:41:10 - cmdstanpy - INFO - Chain [1] done processing\n",
      "11:41:10 - cmdstanpy - INFO - Chain [1] start processing\n",
      "11:41:11 - cmdstanpy - INFO - Chain [1] done processing\n",
      "11:41:11 - cmdstanpy - INFO - Chain [1] start processing\n",
      "11:41:11 - cmdstanpy - INFO - Chain [1] done processing\n",
      "11:41:12 - cmdstanpy - INFO - Chain [1] start processing\n",
      "11:41:12 - cmdstanpy - INFO - Chain [1] done processing\n",
      "11:41:13 - cmdstanpy - INFO - Chain [1] start processing\n",
      "11:41:13 - cmdstanpy - INFO - Chain [1] done processing\n",
      "11:41:14 - cmdstanpy - INFO - Chain [1] start processing\n",
      "11:41:14 - cmdstanpy - INFO - Chain [1] done processing\n"
     ]
    }
   ],
   "source": [
    "resposta = {'area': [], 'resultado': [], 'modelo': [], 'modelofuturo': []}\n",
    "\n",
    "areas = df['area_id'].unique()\n",
    "areas.sort()\n",
    "\n",
    "for area in areas:\n",
    "    \n",
    "    prophet = Prophet()\n",
    "    area_df = df[df['area_id']==area]\n",
    "    area_df.drop(columns='area_id', inplace=True)\n",
    "    saida_fit = prophet.fit(area_df)\n",
    "    saida_futuro = prophet.make_future_dataframe(periods=20, freq='D', include_history=True)\n",
    "    saida_predict = prophet.predict(saida_futuro)\n",
    "    resposta['modelo'].append(prophet)\n",
    "    resposta['modelofuturo'].append(saida_futuro)\n",
    "    resposta['area'].append(area)\n",
    "    resposta['resultado'].append(saida_predict)"
   ]
  },
  {
   "cell_type": "code",
   "execution_count": 131,
   "id": "6a729dde",
   "metadata": {},
   "outputs": [],
   "source": [
    "demmand = {'area':[],'value':[]}\n",
    "\n",
    "for area in resposta['area']:\n",
    "    df = resposta['resultado'][area]\n",
    "    demmand['area'].append(area)\n",
    "    demmand['value'].append(df.loc[df['ds'].dt.date==max_date]['yhat'].values[0])\n",
    "\n"
   ]
  },
  {
   "cell_type": "code",
   "execution_count": 142,
   "id": "411dd51a",
   "metadata": {},
   "outputs": [
    {
     "data": {
      "text/plain": [
       "Timestamp('2022-01-01 00:00:00')"
      ]
     },
     "execution_count": 142,
     "metadata": {},
     "output_type": "execute_result"
    }
   ],
   "source": [
    "pd.to_datetime('01/01/2022')"
   ]
  },
  {
   "cell_type": "code",
   "execution_count": 136,
   "id": "33d4ce68",
   "metadata": {},
   "outputs": [],
   "source": [
    "import numpy as np"
   ]
  },
  {
   "cell_type": "code",
   "execution_count": 138,
   "id": "f8901097",
   "metadata": {},
   "outputs": [
    {
     "data": {
      "text/plain": [
       "1827.8133061179326"
      ]
     },
     "execution_count": 138,
     "metadata": {},
     "output_type": "execute_result"
    }
   ],
   "source": [
    "np.array(demmand['value']).sum()"
   ]
  },
  {
   "cell_type": "code",
   "execution_count": 141,
   "id": "1f587404",
   "metadata": {},
   "outputs": [
    {
     "data": {
      "text/plain": [
       "27.314297246440848"
      ]
     },
     "execution_count": 141,
     "metadata": {},
     "output_type": "execute_result"
    }
   ],
   "source": [
    "teste.loc[teste['ds'].dt.date==max_date]['yhat'].values[0]"
   ]
  },
  {
   "cell_type": "code",
   "execution_count": 140,
   "id": "7f29ffce",
   "metadata": {},
   "outputs": [
    {
     "data": {
      "text/plain": [
       "398    27.314297\n",
       "Name: yhat, dtype: float64"
      ]
     },
     "execution_count": 140,
     "metadata": {},
     "output_type": "execute_result"
    }
   ],
   "source": [
    "teste['yhat'].loc[teste['ds'].dt.date==max_date]"
   ]
  }
 ],
 "metadata": {
  "kernelspec": {
   "display_name": "Python 3 (ipykernel)",
   "language": "python",
   "name": "python3"
  },
  "language_info": {
   "codemirror_mode": {
    "name": "ipython",
    "version": 3
   },
   "file_extension": ".py",
   "mimetype": "text/x-python",
   "name": "python",
   "nbconvert_exporter": "python",
   "pygments_lexer": "ipython3",
   "version": "3.8.12"
  },
  "toc": {
   "base_numbering": 1,
   "nav_menu": {},
   "number_sections": true,
   "sideBar": true,
   "skip_h1_title": false,
   "title_cell": "Table of Contents",
   "title_sidebar": "Contents",
   "toc_cell": false,
   "toc_position": {},
   "toc_section_display": true,
   "toc_window_display": false
  }
 },
 "nbformat": 4,
 "nbformat_minor": 5
}
