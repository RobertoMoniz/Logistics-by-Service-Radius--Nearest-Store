{
 "cells": [
  {
   "cell_type": "code",
   "execution_count": 2,
   "id": "867c06d5",
   "metadata": {},
   "outputs": [],
   "source": [
    "from api.ml_logic.data_treatment import get_data, partition_data\n",
    "from api.ml_logic.area_definition import define_area\n",
    "from api.ml_logic.demmand_forecasting import prophet_predict, predict_demmand\n",
    "from api.ml_logic.optimization import best_areas\n",
    "import warnings\n",
    "warnings.filterwarnings('ignore')\n",
    "\n",
    "import datetime as dt\n",
    "import pandas as pd\n",
    "from prophet import Prophet\n",
    "import math\n",
    "import requests\n"
   ]
  },
  {
   "cell_type": "code",
   "execution_count": 3,
   "id": "0d50eca4",
   "metadata": {},
   "outputs": [],
   "source": [
    "url = 'https://best-allocation-eiwjbu3z3a-uc.a.run.app/optimize?hub=S%C3%A3o%20Crist%C3%B3v%C3%A3o&date=10%2F10%2F2022&available_employees=50&work_hours=8&service_time=0.5&conversion_rate=0.2'"
   ]
  },
  {
   "cell_type": "code",
   "execution_count": 4,
   "id": "119f41d9",
   "metadata": {},
   "outputs": [],
   "source": [
    "response = requests.get(url)"
   ]
  },
  {
   "cell_type": "code",
   "execution_count": 6,
   "id": "2b95ff59",
   "metadata": {},
   "outputs": [],
   "source": [
    "response = response.json()"
   ]
  },
  {
   "cell_type": "code",
   "execution_count": 15,
   "id": "c78e1e22",
   "metadata": {},
   "outputs": [],
   "source": [
    "response={'necessary_employees': 29, 'suggested_areas': {0: {'area_id': 7, 'predicted_demmand': 102.35949816595047}, 1: {'area_id': 7, 'predicted_demmand': 86.35949816595047}, 2: {'area_id': 7, 'predicted_demmand': 70.35949816595047}, 3: {'area_id': 0, 'predicted_demmand': 68.4900318204649}, 4: {'area_id': 5, 'predicted_demmand': 56.387929982698694}, 5: {'area_id': 7, 'predicted_demmand': 54.35949816595047}, 6: {'area_id': 0, 'predicted_demmand': 52.49003182046491}, 7: {'area_id': 11, 'predicted_demmand': 52.431227228087415}, 8: {'area_id': 12, 'predicted_demmand': 49.73724440261941}, 9: {'area_id': 4, 'predicted_demmand': 44.47530175766528}, 10: {'area_id': 5, 'predicted_demmand': 40.387929982698694}, 11: {'area_id': 7, 'predicted_demmand': 38.35949816595047}, 12: {'area_id': 0, 'predicted_demmand': 36.49003182046491}, 13: {'area_id': 11, 'predicted_demmand': 36.431227228087415}, 14: {'area_id': 12, 'predicted_demmand': 33.73724440261941}, 15: {'area_id': 4, 'predicted_demmand': 28.475301757665278}, 16: {'area_id': 5, 'predicted_demmand': 24.387929982698694}, 17: {'area_id': 7, 'predicted_demmand': 22.35949816595047}, 18: {'area_id': 0, 'predicted_demmand': 20.490031820464907}, 19: {'area_id': 11, 'predicted_demmand': 20.431227228087415}, 20: {'area_id': 8, 'predicted_demmand': 18.109960904672082}, 21: {'area_id': 12, 'predicted_demmand': 17.73724440261941}, 22: {'area_id': 3, 'predicted_demmand': 16.39539046454619}, 23: {'area_id': 13, 'predicted_demmand': 13.898613803755723}, 24: {'area_id': 9, 'predicted_demmand': 13.417336414631215}, 25: {'area_id': 4, 'predicted_demmand': 12.475301757665278}, 26: {'area_id': 2, 'predicted_demmand': 9.332278899167504}, 27: {'area_id': 5, 'predicted_demmand': 8.387929982698694}, 28: {'area_id': 14, 'predicted_demmand': 6.650066201372377}}, 'centers': {0: {0: -22.920779037857766, 1: -43.23610722354706}, 1: {0: -22.389276511576355, 1: -41.804153233128076}, 2: {0: -22.43206702612816, 1: -42.99477854751805}, 3: {0: -22.933794611452097, 1: -43.0213823784244}, 4: {0: -22.764261750032222, 1: -43.45521866667025}, 5: {0: -22.823330601116044, 1: -43.319443563602896}, 6: {0: -22.857431911825728, 1: -42.037404571473026}, 7: {0: -22.956622888685125, 1: -43.192353929760934}, 8: {0: -22.819502367813953, 1: -43.038069791488375}, 9: {0: -22.638585883739278, 1: -43.24481953605489}, 10: {0: -22.884805546153846, 1: -42.41311365615385}, 11: {0: -22.89945720855695, 1: -43.1031916368845}, 12: {0: -22.887190311578046, 1: -43.28474466802867}, 13: {0: -22.81037602496247, 1: -43.19819225805276}, 14: {0: -22.858150953595256, 1: -42.84679583194959}}}"
   ]
  },
  {
   "cell_type": "code",
   "execution_count": 17,
   "id": "c5f53803",
   "metadata": {},
   "outputs": [],
   "source": [
    "suggested_areas_df = pd.DataFrame.from_dict(response['suggested_areas'],orient='index')"
   ]
  },
  {
   "cell_type": "code",
   "execution_count": 18,
   "id": "01683156",
   "metadata": {},
   "outputs": [],
   "source": [
    "areas_df = pd.DataFrame.from_dict(response['centers'],orient='index')"
   ]
  },
  {
   "cell_type": "code",
   "execution_count": 25,
   "id": "ceb6e11c",
   "metadata": {},
   "outputs": [],
   "source": [
    "areas_df=areas_df.reset_index()"
   ]
  },
  {
   "cell_type": "code",
   "execution_count": 34,
   "id": "9d6dda5e",
   "metadata": {},
   "outputs": [],
   "source": [
    "from folium.plugins import MarkerCluster\n",
    "import datetime\n",
    "import requests\n",
    "import folium"
   ]
  },
  {
   "cell_type": "code",
   "execution_count": 32,
   "id": "09bef4d4",
   "metadata": {},
   "outputs": [],
   "source": [
    "df = pd.merge(suggested_areas_df,areas_df,left_on='area_id',right_on='index')"
   ]
  },
  {
   "cell_type": "code",
   "execution_count": 43,
   "id": "fe85a012",
   "metadata": {},
   "outputs": [],
   "source": [
    "marker_map = folium.Map(location=[df[0].mean(), df[1].mean()],\n",
    "                        tiles='cartodbpositron',\n",
    "                        default_zoom_start=10,\n",
    "                        )\n",
    "\n",
    "\n",
    "marker_cluster = MarkerCluster().add_to(marker_map)\n",
    "for name, row in df.iterrows():\n",
    "    folium.Marker([row[0], row[1]],\n",
    "                  #popup='Valor: R${0}/noite'.format(row['price'])\n",
    "                  ).add_to(marker_cluster)\n"
   ]
  },
  {
   "cell_type": "code",
   "execution_count": 47,
   "id": "51813a87",
   "metadata": {},
   "outputs": [
    {
     "data": {
      "text/plain": [
       "<folium.plugins.marker_cluster.MarkerCluster at 0x7feca93f4d30>"
      ]
     },
     "metadata": {},
     "output_type": "display_data"
    }
   ],
   "source": [
    "display(marker_cluster)"
   ]
  },
  {
   "cell_type": "code",
   "execution_count": 2,
   "id": "b110ddd4",
   "metadata": {},
   "outputs": [],
   "source": [
    "df = get_data()"
   ]
  },
  {
   "cell_type": "code",
   "execution_count": 3,
   "id": "759265a9",
   "metadata": {},
   "outputs": [],
   "source": [
    "hub = 'São Cristóvão'"
   ]
  },
  {
   "cell_type": "code",
   "execution_count": 4,
   "id": "8a6bce5d",
   "metadata": {},
   "outputs": [],
   "source": [
    "df = df=partition_data(df, hub)"
   ]
  },
  {
   "cell_type": "code",
   "execution_count": 5,
   "id": "c5db0cad",
   "metadata": {},
   "outputs": [],
   "source": [
    "df=define_area(df,hub)"
   ]
  },
  {
   "cell_type": "code",
   "execution_count": 8,
   "id": "1cb89e26",
   "metadata": {},
   "outputs": [
    {
     "name": "stderr",
     "output_type": "stream",
     "text": [
      "17:56:10 - cmdstanpy - INFO - Chain [1] start processing\n",
      "17:56:10 - cmdstanpy - INFO - Chain [1] done processing\n",
      "17:56:11 - cmdstanpy - INFO - Chain [1] start processing\n",
      "17:56:11 - cmdstanpy - INFO - Chain [1] done processing\n",
      "17:56:11 - cmdstanpy - INFO - Chain [1] start processing\n",
      "17:56:11 - cmdstanpy - INFO - Chain [1] done processing\n",
      "17:56:12 - cmdstanpy - INFO - Chain [1] start processing\n",
      "17:56:12 - cmdstanpy - INFO - Chain [1] done processing\n",
      "17:56:12 - cmdstanpy - INFO - Chain [1] start processing\n",
      "17:56:12 - cmdstanpy - INFO - Chain [1] done processing\n",
      "17:56:13 - cmdstanpy - INFO - Chain [1] start processing\n",
      "17:56:13 - cmdstanpy - INFO - Chain [1] done processing\n",
      "17:56:13 - cmdstanpy - INFO - Chain [1] start processing\n",
      "17:56:13 - cmdstanpy - INFO - Chain [1] done processing\n",
      "17:56:14 - cmdstanpy - INFO - Chain [1] start processing\n",
      "17:56:14 - cmdstanpy - INFO - Chain [1] done processing\n",
      "17:56:14 - cmdstanpy - INFO - Chain [1] start processing\n",
      "17:56:14 - cmdstanpy - INFO - Chain [1] done processing\n",
      "17:56:15 - cmdstanpy - INFO - Chain [1] start processing\n",
      "17:56:15 - cmdstanpy - INFO - Chain [1] done processing\n",
      "17:56:15 - cmdstanpy - INFO - Chain [1] start processing\n",
      "17:56:15 - cmdstanpy - INFO - Chain [1] done processing\n",
      "17:56:16 - cmdstanpy - INFO - Chain [1] start processing\n",
      "17:56:16 - cmdstanpy - INFO - Chain [1] done processing\n",
      "17:56:16 - cmdstanpy - INFO - Chain [1] start processing\n",
      "17:56:16 - cmdstanpy - INFO - Chain [1] done processing\n",
      "17:56:17 - cmdstanpy - INFO - Chain [1] start processing\n",
      "17:56:17 - cmdstanpy - INFO - Chain [1] done processing\n",
      "17:56:17 - cmdstanpy - INFO - Chain [1] start processing\n",
      "17:56:17 - cmdstanpy - INFO - Chain [1] done processing\n"
     ]
    }
   ],
   "source": [
    "prediction = prophet_predict(df)"
   ]
  },
  {
   "cell_type": "markdown",
   "id": "4ae89a8e",
   "metadata": {},
   "source": [
    "tratando o big frame"
   ]
  },
  {
   "cell_type": "code",
   "execution_count": 33,
   "id": "8bfa824d",
   "metadata": {},
   "outputs": [],
   "source": [
    "date=pd.to_datetime('08/10/2022',dayfirst=True,)"
   ]
  },
  {
   "cell_type": "code",
   "execution_count": 83,
   "id": "808868c1",
   "metadata": {},
   "outputs": [],
   "source": [
    "daily_demmand = predict_demmand(prediction, date)"
   ]
  },
  {
   "cell_type": "code",
   "execution_count": 92,
   "id": "49142731",
   "metadata": {},
   "outputs": [],
   "source": [
    "ideal_areas = best_areas(daily_demmand,8)"
   ]
  },
  {
   "cell_type": "code",
   "execution_count": 1,
   "id": "9e8aee4a",
   "metadata": {},
   "outputs": [
    {
     "name": "stderr",
     "output_type": "stream",
     "text": [
      "/home/matheus/.pyenv/versions/3.8.12/envs/lewagon/lib/python3.8/site-packages/scipy/__init__.py:146: UserWarning: A NumPy version >=1.16.5 and <1.23.0 is required for this version of SciPy (detected version 1.23.4\n",
      "  warnings.warn(f\"A NumPy version >={np_minversion} and <{np_maxversion}\"\n"
     ]
    }
   ],
   "source": [
    "from fastapi import FastAPI\n",
    "from api.ml_logic.data_treatment import get_data, partition_data\n",
    "from api.ml_logic.area_definition import define_area\n",
    "from api.ml_logic.optimization import best_number_of_employees, best_areas\n",
    "from api.ml_logic.demmand_forecasting import prophet_predict, predict_demmand\n",
    "import numpy as np\n",
    "import pandas as pd\n",
    "import random\n",
    "import math\n",
    "\n",
    "\n",
    "%load_ext autoreload\n",
    "%autoreload 2"
   ]
  },
  {
   "cell_type": "code",
   "execution_count": 2,
   "id": "1f6c6cfc",
   "metadata": {},
   "outputs": [],
   "source": [
    "def optimize(hub,date,available_employees,work_hours=8,service_time=0.5,conversion_rate=0.2):\n",
    "    \n",
    "    #Transforming f rom string\n",
    "    date=pd.to_datetime(date,dayfirst=True)\n",
    "    available_employees=float(available_employees)\n",
    "    work_hours=float(work_hours)\n",
    "    service_time=float(service_time)\n",
    "    conversion_rate=float(conversion_rate)\n",
    "    \n",
    "    print('Collecting data')\n",
    "    df=get_data()\n",
    "\n",
    "    print('Partitioning data')\n",
    "    df=partition_data(df, hub)\n",
    "\n",
    "    print('Spliting df')\n",
    "    df=define_area(df,hub)\n",
    "\n",
    "    print('Predicting the demmand')\n",
    "    prediction = prophet_predict(df)\n",
    "\n",
    "    print('Predicting daily demmand')\n",
    "    daily_demmand = predict_demmand(prediction, date)\n",
    "    \n",
    "    print('Defining the number of employees')\n",
    "    n_employees = best_number_of_employees(daily_demmand,conversion_rate,work_hours,service_time)\n",
    "\n",
    "    print('defining the best areas')\n",
    "    areas = best_areas(daily_demmand,available_employees,conversion_rate,work_hours,service_time)\n",
    "    \n",
    "    response = {'necessary_employees':n_employees,'suggested_areas':areas}\n",
    "    \n",
    "    return response\n"
   ]
  },
  {
   "cell_type": "code",
   "execution_count": 3,
   "id": "aea314ff",
   "metadata": {},
   "outputs": [
    {
     "name": "stdout",
     "output_type": "stream",
     "text": [
      "Collecting data\n",
      "Partitioning data\n",
      "Spliting df\n",
      "Predicting the demmand\n"
     ]
    },
    {
     "name": "stderr",
     "output_type": "stream",
     "text": [
      "22:28:23 - cmdstanpy - INFO - Chain [1] start processing\n",
      "22:28:23 - cmdstanpy - INFO - Chain [1] done processing\n",
      "22:28:24 - cmdstanpy - INFO - Chain [1] start processing\n",
      "22:28:24 - cmdstanpy - INFO - Chain [1] done processing\n",
      "22:28:25 - cmdstanpy - INFO - Chain [1] start processing\n",
      "22:28:25 - cmdstanpy - INFO - Chain [1] done processing\n",
      "22:28:25 - cmdstanpy - INFO - Chain [1] start processing\n",
      "22:28:25 - cmdstanpy - INFO - Chain [1] done processing\n",
      "22:28:26 - cmdstanpy - INFO - Chain [1] start processing\n",
      "22:28:26 - cmdstanpy - INFO - Chain [1] done processing\n",
      "22:28:27 - cmdstanpy - INFO - Chain [1] start processing\n",
      "22:28:27 - cmdstanpy - INFO - Chain [1] done processing\n",
      "22:28:27 - cmdstanpy - INFO - Chain [1] start processing\n",
      "22:28:27 - cmdstanpy - INFO - Chain [1] done processing\n",
      "22:28:28 - cmdstanpy - INFO - Chain [1] start processing\n",
      "22:28:28 - cmdstanpy - INFO - Chain [1] done processing\n",
      "22:28:29 - cmdstanpy - INFO - Chain [1] start processing\n",
      "22:28:29 - cmdstanpy - INFO - Chain [1] done processing\n",
      "22:28:29 - cmdstanpy - INFO - Chain [1] start processing\n",
      "22:28:29 - cmdstanpy - INFO - Chain [1] done processing\n",
      "22:28:30 - cmdstanpy - INFO - Chain [1] start processing\n",
      "22:28:30 - cmdstanpy - INFO - Chain [1] done processing\n",
      "22:28:30 - cmdstanpy - INFO - Chain [1] start processing\n",
      "22:28:31 - cmdstanpy - INFO - Chain [1] done processing\n",
      "22:28:31 - cmdstanpy - INFO - Chain [1] start processing\n",
      "22:28:31 - cmdstanpy - INFO - Chain [1] done processing\n",
      "22:28:32 - cmdstanpy - INFO - Chain [1] start processing\n",
      "22:28:32 - cmdstanpy - INFO - Chain [1] done processing\n",
      "22:28:32 - cmdstanpy - INFO - Chain [1] start processing\n",
      "22:28:32 - cmdstanpy - INFO - Chain [1] done processing\n"
     ]
    },
    {
     "name": "stdout",
     "output_type": "stream",
     "text": [
      "Predicting daily demmand\n",
      "Defining the number of employees\n",
      "defining the best areas\n",
      "area 0\n",
      "area 1\n",
      "area 2\n",
      "area 3\n",
      "area 4\n",
      "area 5\n",
      "area 6\n",
      "area 7\n"
     ]
    }
   ],
   "source": [
    "teste = optimize('Barra','10/10/2022',8)"
   ]
  },
  {
   "cell_type": "code",
   "execution_count": 6,
   "id": "af39c414",
   "metadata": {},
   "outputs": [],
   "source": [
    "dict_teste = {'area':{},'valor':{}}"
   ]
  },
  {
   "cell_type": "code",
   "execution_count": 17,
   "id": "4751eacf",
   "metadata": {},
   "outputs": [
    {
     "data": {
      "text/plain": [
       "list"
      ]
     },
     "execution_count": 17,
     "metadata": {},
     "output_type": "execute_result"
    }
   ],
   "source": [
    "type(teste['suggested_areas']['predicted_demmand'])"
   ]
  }
 ],
 "metadata": {
  "kernelspec": {
   "display_name": "Python 3 (ipykernel)",
   "language": "python",
   "name": "python3"
  },
  "language_info": {
   "codemirror_mode": {
    "name": "ipython",
    "version": 3
   },
   "file_extension": ".py",
   "mimetype": "text/x-python",
   "name": "python",
   "nbconvert_exporter": "python",
   "pygments_lexer": "ipython3",
   "version": "3.8.12"
  },
  "toc": {
   "base_numbering": 1,
   "nav_menu": {},
   "number_sections": true,
   "sideBar": true,
   "skip_h1_title": false,
   "title_cell": "Table of Contents",
   "title_sidebar": "Contents",
   "toc_cell": false,
   "toc_position": {},
   "toc_section_display": true,
   "toc_window_display": false
  }
 },
 "nbformat": 4,
 "nbformat_minor": 5
}
