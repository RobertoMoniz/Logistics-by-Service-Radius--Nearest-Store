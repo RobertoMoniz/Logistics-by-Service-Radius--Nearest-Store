{
 "cells": [
  {
   "cell_type": "code",
   "execution_count": 35,
   "id": "34fa2bff",
   "metadata": {},
   "outputs": [],
   "source": [
    "import pandas as pd\n",
    "import random\n",
    "import math"
   ]
  },
  {
   "cell_type": "code",
   "execution_count": 36,
   "id": "6e4bfbfa",
   "metadata": {},
   "outputs": [],
   "source": [
    "def best_number_of_employees(demmand,conversion_rate,work_hours=8,service_time=0.5):\n",
    "    employees = math.ceil(demmand*conversion_rate*service_time/work_hours)\n",
    "    return employees"
   ]
  },
  {
   "cell_type": "code",
   "execution_count": 37,
   "id": "bfd2690e",
   "metadata": {},
   "outputs": [],
   "source": [
    "def best_areas(available_employees):\n",
    "    best_areas = {'suggested_area_id':[]}\n",
    "    for i in range(available_employees):\n",
    "        best_areas['suggested_area_id'].append(random.randint(0,9))\n",
    "    return best_areas"
   ]
  },
  {
   "cell_type": "code",
   "execution_count": 38,
   "id": "1febbd56",
   "metadata": {},
   "outputs": [],
   "source": [
    "def optimization(available_employees,work_hours=8,service_time=0.5):\n",
    "    \n",
    "    demmand=300\n",
    "    conversion_rate = 0.2\n",
    "    n_employees = best_number_of_employees(demmand,conversion_rate,work_hours=8,service_time=0.5)\n",
    "    areas = best_areas(available_employees)\n",
    "    \n",
    "    response = {'necessary_employees':n_employees,'suggested_areas':areas}\n",
    "    \n",
    "    return response"
   ]
  },
  {
   "cell_type": "code",
   "execution_count": 40,
   "id": "15480e07",
   "metadata": {},
   "outputs": [
    {
     "data": {
      "text/plain": [
       "{'necessary_employees': 4,\n",
       " 'suggested_areas': {'suggested_area_id': [5, 5, 8, 4, 2]}}"
      ]
     },
     "execution_count": 40,
     "metadata": {},
     "output_type": "execute_result"
    }
   ],
   "source": [
    "optimization(5)"
   ]
  }
 ],
 "metadata": {
  "kernelspec": {
   "display_name": "Python 3 (ipykernel)",
   "language": "python",
   "name": "python3"
  },
  "language_info": {
   "codemirror_mode": {
    "name": "ipython",
    "version": 3
   },
   "file_extension": ".py",
   "mimetype": "text/x-python",
   "name": "python",
   "nbconvert_exporter": "python",
   "pygments_lexer": "ipython3",
   "version": "3.8.12"
  },
  "toc": {
   "base_numbering": 1,
   "nav_menu": {},
   "number_sections": true,
   "sideBar": true,
   "skip_h1_title": false,
   "title_cell": "Table of Contents",
   "title_sidebar": "Contents",
   "toc_cell": false,
   "toc_position": {},
   "toc_section_display": true,
   "toc_window_display": false
  }
 },
 "nbformat": 4,
 "nbformat_minor": 5
}
