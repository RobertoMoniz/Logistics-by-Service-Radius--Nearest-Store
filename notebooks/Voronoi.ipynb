{
 "cells": [
  {
   "cell_type": "code",
   "execution_count": 2,
   "id": "5aa52fa5",
   "metadata": {},
   "outputs": [],
   "source": [
    "import requests\n",
    "import pandas as pd"
   ]
  },
  {
   "cell_type": "markdown",
   "id": "195e59d3",
   "metadata": {},
   "source": [
    "## old"
   ]
  },
  {
   "cell_type": "code",
   "execution_count": 3,
   "id": "3ffa3282",
   "metadata": {},
   "outputs": [],
   "source": [
    "url = 'https://best-allocation-eiwjbu3z3a-uc.a.run.app/optimize?hub=Barra&date=01%2F11%2F2022&available_employees=10&work_hours=8&service_time=0.5&conversion_rate=0.2'"
   ]
  },
  {
   "cell_type": "code",
   "execution_count": 4,
   "id": "3b850d8e",
   "metadata": {},
   "outputs": [],
   "source": [
    "response = requests.get(url)"
   ]
  },
  {
   "cell_type": "code",
   "execution_count": 6,
   "id": "739cdbd5",
   "metadata": {},
   "outputs": [],
   "source": [
    "from scipy.spatial import voronoi_plot_2d, Voronoi"
   ]
  },
  {
   "cell_type": "code",
   "execution_count": 9,
   "id": "a6ef9d71",
   "metadata": {},
   "outputs": [],
   "source": [
    "import numpy as np"
   ]
  },
  {
   "cell_type": "code",
   "execution_count": 16,
   "id": "ea7e3b21",
   "metadata": {},
   "outputs": [],
   "source": [
    "centers = pd.DataFrame.from_dict(response.json()['centers'],orient='index')"
   ]
  },
  {
   "cell_type": "code",
   "execution_count": 17,
   "id": "93f471cf",
   "metadata": {},
   "outputs": [
    {
     "data": {
      "text/html": [
       "<div>\n",
       "<style scoped>\n",
       "    .dataframe tbody tr th:only-of-type {\n",
       "        vertical-align: middle;\n",
       "    }\n",
       "\n",
       "    .dataframe tbody tr th {\n",
       "        vertical-align: top;\n",
       "    }\n",
       "\n",
       "    .dataframe thead th {\n",
       "        text-align: right;\n",
       "    }\n",
       "</style>\n",
       "<table border=\"1\" class=\"dataframe\">\n",
       "  <thead>\n",
       "    <tr style=\"text-align: right;\">\n",
       "      <th></th>\n",
       "      <th>0</th>\n",
       "      <th>1</th>\n",
       "    </tr>\n",
       "  </thead>\n",
       "  <tbody>\n",
       "    <tr>\n",
       "      <th>0</th>\n",
       "      <td>-22.922265</td>\n",
       "      <td>-43.385406</td>\n",
       "    </tr>\n",
       "    <tr>\n",
       "      <th>1</th>\n",
       "      <td>-22.900424</td>\n",
       "      <td>-43.610763</td>\n",
       "    </tr>\n",
       "    <tr>\n",
       "      <th>2</th>\n",
       "      <td>-23.016472</td>\n",
       "      <td>-43.501508</td>\n",
       "    </tr>\n",
       "    <tr>\n",
       "      <th>3</th>\n",
       "      <td>-22.992203</td>\n",
       "      <td>-43.359422</td>\n",
       "    </tr>\n",
       "    <tr>\n",
       "      <th>4</th>\n",
       "      <td>-22.923798</td>\n",
       "      <td>-43.562982</td>\n",
       "    </tr>\n",
       "    <tr>\n",
       "      <th>5</th>\n",
       "      <td>-22.975012</td>\n",
       "      <td>-43.392188</td>\n",
       "    </tr>\n",
       "    <tr>\n",
       "      <th>6</th>\n",
       "      <td>-22.995235</td>\n",
       "      <td>-43.258303</td>\n",
       "    </tr>\n",
       "    <tr>\n",
       "      <th>7</th>\n",
       "      <td>-23.000363</td>\n",
       "      <td>-43.430746</td>\n",
       "    </tr>\n",
       "    <tr>\n",
       "      <th>8</th>\n",
       "      <td>-22.937665</td>\n",
       "      <td>-43.341346</td>\n",
       "    </tr>\n",
       "    <tr>\n",
       "      <th>9</th>\n",
       "      <td>-22.876758</td>\n",
       "      <td>-43.450451</td>\n",
       "    </tr>\n",
       "    <tr>\n",
       "      <th>10</th>\n",
       "      <td>-23.011934</td>\n",
       "      <td>-43.469213</td>\n",
       "    </tr>\n",
       "    <tr>\n",
       "      <th>11</th>\n",
       "      <td>-23.007173</td>\n",
       "      <td>-43.322165</td>\n",
       "    </tr>\n",
       "    <tr>\n",
       "      <th>12</th>\n",
       "      <td>-22.883616</td>\n",
       "      <td>-43.365124</td>\n",
       "    </tr>\n",
       "    <tr>\n",
       "      <th>13</th>\n",
       "      <td>-22.939383</td>\n",
       "      <td>-43.673458</td>\n",
       "    </tr>\n",
       "    <tr>\n",
       "      <th>14</th>\n",
       "      <td>-22.882890</td>\n",
       "      <td>-43.556718</td>\n",
       "    </tr>\n",
       "  </tbody>\n",
       "</table>\n",
       "</div>"
      ],
      "text/plain": [
       "            0          1\n",
       "0  -22.922265 -43.385406\n",
       "1  -22.900424 -43.610763\n",
       "2  -23.016472 -43.501508\n",
       "3  -22.992203 -43.359422\n",
       "4  -22.923798 -43.562982\n",
       "5  -22.975012 -43.392188\n",
       "6  -22.995235 -43.258303\n",
       "7  -23.000363 -43.430746\n",
       "8  -22.937665 -43.341346\n",
       "9  -22.876758 -43.450451\n",
       "10 -23.011934 -43.469213\n",
       "11 -23.007173 -43.322165\n",
       "12 -22.883616 -43.365124\n",
       "13 -22.939383 -43.673458\n",
       "14 -22.882890 -43.556718"
      ]
     },
     "execution_count": 17,
     "metadata": {},
     "output_type": "execute_result"
    }
   ],
   "source": [
    "centers"
   ]
  },
  {
   "cell_type": "code",
   "execution_count": 12,
   "id": "b4fe6421",
   "metadata": {},
   "outputs": [],
   "source": [
    "import folium"
   ]
  },
  {
   "cell_type": "code",
   "execution_count": 18,
   "id": "111c1e13",
   "metadata": {},
   "outputs": [],
   "source": [
    "vor = Voronoi(centers)"
   ]
  },
  {
   "cell_type": "code",
   "execution_count": 19,
   "id": "ed0e2961",
   "metadata": {},
   "outputs": [
    {
     "data": {
      "text/plain": [
       "[[3, -1, 2],\n",
       " [2, 0, -1],\n",
       " [3, 1, -1],\n",
       " [6, 1, 3, 2, 0, 5],\n",
       " [8, 5, 6, 4, 7],\n",
       " [-1, 0, 5, 8],\n",
       " [],\n",
       " [10, -1, 9],\n",
       " [15, 11, 12, 13, 14],\n",
       " [13, -1, 9, 12],\n",
       " [14, 4, 6, 1, -1, 13],\n",
       " [19, 17, 16, 18],\n",
       " [17, 10, 9, 12, 11, 16],\n",
       " [18, 15, 11, 16],\n",
       " [19, 7, 8, -1, 10, 17],\n",
       " [19, 7, 4, 14, 15, 18]]"
      ]
     },
     "execution_count": 19,
     "metadata": {},
     "output_type": "execute_result"
    }
   ],
   "source": [
    "vor.regions"
   ]
  },
  {
   "cell_type": "code",
   "execution_count": 88,
   "id": "3ed42a46",
   "metadata": {},
   "outputs": [
    {
     "data": {
      "text/plain": [
       "[[3, -1, 2],\n",
       " [2, 0, -1],\n",
       " [3, 1, -1],\n",
       " [6, 1, 3, 2, 0, 5],\n",
       " [8, 5, 6, 4, 7],\n",
       " [-1, 0, 5, 8],\n",
       " [],\n",
       " [10, -1, 9],\n",
       " [15, 11, 12, 13, 14],\n",
       " [13, -1, 9, 12],\n",
       " [14, 4, 6, 1, -1, 13],\n",
       " [19, 17, 16, 18],\n",
       " [17, 10, 9, 12, 11, 16],\n",
       " [18, 15, 11, 16],\n",
       " [19, 7, 8, -1, 10, 17],\n",
       " [19, 7, 4, 14, 15, 18]]"
      ]
     },
     "execution_count": 88,
     "metadata": {},
     "output_type": "execute_result"
    }
   ],
   "source": [
    "vor.regions"
   ]
  },
  {
   "cell_type": "code",
   "execution_count": 92,
   "id": "83aadd3d",
   "metadata": {},
   "outputs": [
    {
     "data": {
      "text/plain": [
       "[[-1, 2],\n",
       " [-1, 3],\n",
       " [2, 3],\n",
       " [-1, 0],\n",
       " [0, 2],\n",
       " [-1, 1],\n",
       " [1, 3],\n",
       " [0, 5],\n",
       " [1, 6],\n",
       " [5, 6],\n",
       " [4, 7],\n",
       " [4, 6],\n",
       " [5, 8],\n",
       " [7, 8],\n",
       " [-1, 8],\n",
       " [-1, 9],\n",
       " [-1, 10],\n",
       " [9, 10],\n",
       " [11, 12],\n",
       " [11, 15],\n",
       " [12, 13],\n",
       " [13, 14],\n",
       " [14, 15],\n",
       " [-1, 13],\n",
       " [9, 12],\n",
       " [4, 14],\n",
       " [16, 17],\n",
       " [16, 18],\n",
       " [17, 19],\n",
       " [18, 19],\n",
       " [10, 17],\n",
       " [11, 16],\n",
       " [15, 18],\n",
       " [7, 19]]"
      ]
     },
     "execution_count": 92,
     "metadata": {},
     "output_type": "execute_result"
    }
   ],
   "source": [
    "vor.ridge_vertices"
   ]
  },
  {
   "cell_type": "code",
   "execution_count": 144,
   "id": "e597822a",
   "metadata": {},
   "outputs": [
    {
     "data": {
      "text/plain": [
       "([[15, 11, 12, 13, 14],\n",
       "  [20, 21, 3, 2],\n",
       "  [22, 0, 5, 8, 23],\n",
       "  [19, 17, 16, 18],\n",
       "  [6, 1, 3, 2, 0, 5],\n",
       "  [18, 15, 11, 16],\n",
       "  [25, 10, 9, 24],\n",
       "  [19, 7, 4, 14, 15, 18],\n",
       "  [17, 10, 9, 12, 11, 16],\n",
       "  [13, 14, 4, 6, 1, 26, 27],\n",
       "  [8, 5, 6, 4, 7],\n",
       "  [8, 7, 19, 17, 10, 29, 28],\n",
       "  [9, 12, 13, 31, 30],\n",
       "  [33, 32, 2, 0],\n",
       "  [34, 35, 1, 3]],\n",
       " array([[-23.01898639, -43.60589086],\n",
       "        [-22.91224536, -43.50171388],\n",
       "        [-22.96620791, -43.61333624],\n",
       "        [-22.90010551, -43.58099964],\n",
       "        [-22.94308051, -43.46895214],\n",
       "        [-22.94544283, -43.49502108],\n",
       "        [-22.94015234, -43.49004837],\n",
       "        [-23.20798072, -43.38926368],\n",
       "        [-23.84505191, -43.36863352],\n",
       "        [-22.85234235, -43.22071773],\n",
       "        [-22.96293489, -43.29738777],\n",
       "        [-22.95096324, -43.37071526],\n",
       "        [-22.91240092, -43.35723704],\n",
       "        [-22.88564302, -43.40822562],\n",
       "        [-22.93939466, -43.44583124],\n",
       "        [-22.94184896, -43.44160376],\n",
       "        [-22.960523  , -43.36369289],\n",
       "        [-22.97182322, -43.32959794],\n",
       "        [-23.0160443 , -43.39282346],\n",
       "        [-23.1041107 , -43.38274914],\n",
       "        [ 12.36181851, -65.56649818],\n",
       "        [ 16.66318693, -56.41675677],\n",
       "        [-60.97266515, -60.62144371],\n",
       "        [-65.38265118, -41.21488863],\n",
       "        [  5.905483  , -13.17078843],\n",
       "        [-63.84819121, -35.65496769],\n",
       "        [ 18.61209588, -45.89751322],\n",
       "        [ 18.57409058, -40.07637041],\n",
       "        [-65.38265118, -41.21488863],\n",
       "        [-63.84819121, -35.65496769],\n",
       "        [  5.905483  , -13.17078843],\n",
       "        [ 18.57409058, -40.07637041],\n",
       "        [ 12.36181851, -65.56649818],\n",
       "        [-60.97266515, -60.62144371],\n",
       "        [ 16.66318693, -56.41675677],\n",
       "        [ 18.61209588, -45.89751322]]))"
      ]
     },
     "execution_count": 144,
     "metadata": {},
     "output_type": "execute_result"
    }
   ],
   "source": [
    "voronoi_finite_polygons_2d(vor)"
   ]
  },
  {
   "cell_type": "code",
   "execution_count": 143,
   "id": "d5d2f7ba",
   "metadata": {},
   "outputs": [],
   "source": [
    "def voronoi_finite_polygons_2d(vor, radius=None):\n",
    "    \"\"\"\n",
    "    Reconstruct infinite voronoi regions in a 2D diagram to finite\n",
    "    regions.\n",
    "    Parameters\n",
    "    ----------\n",
    "    vor : Voronoi\n",
    "        Input diagram\n",
    "    radius : float, optional\n",
    "        Distance to 'points at infinity'.\n",
    "    Returns\n",
    "    -------\n",
    "    regions : list of tuples\n",
    "        Indices of vertices in each revised Voronoi regions.\n",
    "    vertices : list of tuples\n",
    "        Coordinates for revised Voronoi vertices. Same as coordinates\n",
    "        of input vertices, with 'points at infinity' appended to the\n",
    "        end.\n",
    "    Source\n",
    "    -------\n",
    "    Copied from https://gist.github.com/pv/8036995\n",
    "    \"\"\"\n",
    "\n",
    "    if vor.points.shape[1] != 2:\n",
    "        raise ValueError(\"Requires 2D input\")\n",
    "\n",
    "    new_regions = []\n",
    "    new_vertices = vor.vertices.tolist()\n",
    "\n",
    "    center = vor.points.mean(axis=0)\n",
    "    if radius is None:\n",
    "        radius = vor.points.ptp().max() * 2\n",
    "\n",
    "    # Construct a map containing all ridges for a given point\n",
    "    all_ridges = {}\n",
    "    for (p1, p2), (v1, v2) in zip(vor.ridge_points, vor.ridge_vertices):\n",
    "        all_ridges.setdefault(p1, []).append((p2, v1, v2))\n",
    "        all_ridges.setdefault(p2, []).append((p1, v1, v2))\n",
    "\n",
    "    # Reconstruct infinite regions\n",
    "    for p1, region in enumerate(vor.point_region):\n",
    "        vertices = vor.regions[region]\n",
    "\n",
    "        if all(v >= 0 for v in vertices):\n",
    "            # finite region\n",
    "            new_regions.append(vertices)\n",
    "            continue\n",
    "\n",
    "        # reconstruct a non-finite region\n",
    "        ridges = all_ridges[p1]\n",
    "        new_region = [v for v in vertices if v >= 0]\n",
    "\n",
    "        for p2, v1, v2 in ridges:\n",
    "            if v2 < 0:\n",
    "                v1, v2 = v2, v1\n",
    "            if v1 >= 0:\n",
    "                # finite ridge: already in the region\n",
    "                continue\n",
    "\n",
    "            # Compute the missing endpoint of an infinite ridge\n",
    "\n",
    "            t = vor.points[p2] - vor.points[p1]  # tangent\n",
    "            t /= np.linalg.norm(t)\n",
    "            n = np.array([-t[1], t[0]])  # normal\n",
    "\n",
    "            midpoint = vor.points[[p1, p2]].mean(axis=0)\n",
    "            direction = np.sign(np.dot(midpoint - center, n)) * n\n",
    "            far_point = vor.vertices[v2] + direction * radius\n",
    "\n",
    "            new_region.append(len(new_vertices))\n",
    "            new_vertices.append(far_point.tolist())\n",
    "\n",
    "        # sort region counterclockwise\n",
    "        vs = np.asarray([new_vertices[v] for v in new_region])\n",
    "        c = vs.mean(axis=0)\n",
    "        angles = np.arctan2(vs[:, 1] - c[1], vs[:, 0] - c[0])\n",
    "        new_region = np.array(new_region)[np.argsort(angles)]\n",
    "\n",
    "        # finish\n",
    "        new_regions.append(new_region.tolist())\n",
    "\n",
    "    return new_regions, np.asarray(new_vertices)\n",
    "\n",
    "def voronoi_polygons(n=50):\n",
    "    random_seeds = np.random.rand(n, 2)\n",
    "    vor = Voronoi(random_seeds)\n",
    "    regions, vertices = voronoi_finite_polygons_2d(vor)\n",
    "    polygons = []\n",
    "    for reg in regions:\n",
    "        polygon = vertices[reg]\n",
    "        polygons.append(polygon)\n",
    "    return polygons"
   ]
  },
  {
   "cell_type": "code",
   "execution_count": 147,
   "id": "430fc5ad",
   "metadata": {},
   "outputs": [],
   "source": [
    "def calc_polygons(df):\n",
    "    vor = Voronoi(df[[\"longitude\",\"latitude\"]].values)\n",
    "    regions, vertices = voronoi_finite_polygons_2d(vor)\n",
    "    polygons = []\n",
    "    for reg in regions:\n",
    "        polygon = vertices[reg]\n",
    "        polygons.append(polygon)\n",
    "    return polygons\n",
    "\n"
   ]
  },
  {
   "cell_type": "code",
   "execution_count": 148,
   "id": "25670bda",
   "metadata": {},
   "outputs": [],
   "source": [
    "import math\n",
    "def to_convex(points):\n",
    "    # compute centroid\n",
    "    cent = (sum([p[0] for p in points])/len(points),\n",
    "            sum([p[1] for p in points])/len(points))\n",
    "    # sort by polar angle\n",
    "    points.sort(key=lambda p: math.atan2(p[1] - cent[1],\n",
    "                                         p[0] - cent[0]))\n",
    "    return points"
   ]
  },
  {
   "cell_type": "code",
   "execution_count": 155,
   "id": "d1b0ac26",
   "metadata": {},
   "outputs": [
    {
     "data": {
      "text/html": [
       "<div style=\"width:100%;\"><div style=\"position:relative;width:100%;height:0;padding-bottom:60%;\"><iframe src=\"data:text/html;charset=utf-8;base64,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\" style=\"position:absolute;width:100%;height:100%;left:0;top:0;border:none !important;\" allowfullscreen webkitallowfullscreen mozallowfullscreen></iframe></div></div>"
      ],
      "text/plain": [
       "<folium.folium.Map at 0x7fb64bb15280>"
      ]
     },
     "metadata": {},
     "output_type": "display_data"
    }
   ],
   "source": [
    "from folium import vector_layers \n",
    "\n",
    "def plot_map(df, coordenadas, show_nums=False, show_seeds=True):\n",
    "    m = folium.Map(location=coordenadas,\n",
    "                   width=750, height=500, \n",
    "                   zoom_start=4,\n",
    "                   api_key='6NbtVc32EkZBkf8eXLAE')\n",
    "    \n",
    "    for lat, lon, poly in df[[\"latitude\",\"longitude\",\"polygons\"]].values:\n",
    "        points = to_convex(np.flip(poly).tolist())\n",
    "        vlayer = vector_layers.Polygon(points, \n",
    "                                       fill=True, \n",
    "                                       color=\"black\",\n",
    "                                       weight=1)\n",
    "        m.add_child(vlayer)\n",
    "\n",
    "        if show_seeds:\n",
    "            clayer = vector_layers.Circle([lat,lon], 2, color=\"black\")\n",
    "            m.add_child(clayer)\n",
    "        \n",
    "    return m\n",
    "    \n",
    "display(plot_map(centers,coordenadas))"
   ]
  },
  {
   "cell_type": "code",
   "execution_count": 25,
   "id": "2c47009b",
   "metadata": {},
   "outputs": [],
   "source": [
    "import folium"
   ]
  },
  {
   "cell_type": "code",
   "execution_count": 26,
   "id": "69fc9632",
   "metadata": {},
   "outputs": [],
   "source": [
    "coordenadas = [\t-22.922265,-43.385406]"
   ]
  },
  {
   "cell_type": "code",
   "execution_count": 93,
   "id": "41eb7e0f",
   "metadata": {},
   "outputs": [],
   "source": [
    "m = folium.Map(location=coordenadas,tiles= \"cartodbpositron\",min_zoom=5, zoom_start=11, max_zoom=40)"
   ]
  },
  {
   "cell_type": "code",
   "execution_count": 96,
   "id": "19638f92",
   "metadata": {},
   "outputs": [
    {
     "data": {
      "text/html": [
       "<div style=\"width:100%;\"><div style=\"position:relative;width:100%;height:0;padding-bottom:60%;\"><iframe src=\"data:text/html;charset=utf-8;base64,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\" style=\"position:absolute;width:100%;height:100%;left:0;top:0;border:none !important;\" allowfullscreen webkitallowfullscreen mozallowfullscreen></iframe></div></div>"
      ],
      "text/plain": [
       "<folium.folium.Map at 0x7fb64bf225e0>"
      ]
     },
     "metadata": {},
     "output_type": "display_data"
    }
   ],
   "source": [
    "display(m)"
   ]
  },
  {
   "cell_type": "code",
   "execution_count": 34,
   "id": "539b8d0d",
   "metadata": {},
   "outputs": [],
   "source": [
    "centers.columns=['latitude','longitude']\n",
    "colors=['red', 'blue', 'green', 'purple', 'orange', 'darkred', 'lightred', 'beige', 'darkblue', 'darkgreen', 'cadetblue', 'darkpurple', 'white', 'pink', 'lightblue', 'lightgreen', 'gray', 'black', 'lightgray']"
   ]
  },
  {
   "cell_type": "code",
   "execution_count": 95,
   "id": "c3cc4de2",
   "metadata": {},
   "outputs": [],
   "source": [
    "coords=[]\n",
    "\n",
    "for i in range(0,len(centers)):\n",
    "        folium.Marker(\n",
    "        location=[centers.iloc[i]['latitude'], centers.iloc[i]['longitude']],\n",
    "        #popup=centers.iloc[i]['number of employees'],\n",
    "        icon=folium.Icon(color=colors[i])\n",
    "        ).add_to(m)\n",
    "        coords.append([centers.iloc[i]['latitude'], centers.iloc[i]['longitude']])"
   ]
  },
  {
   "cell_type": "code",
   "execution_count": 45,
   "id": "d6f3e26f",
   "metadata": {},
   "outputs": [],
   "source": [
    "import shapely"
   ]
  },
  {
   "cell_type": "code",
   "execution_count": 102,
   "id": "1f2da178",
   "metadata": {},
   "outputs": [
    {
     "data": {
      "text/plain": [
       "[[-1, 2],\n",
       " [-1, 3],\n",
       " [2, 3],\n",
       " [-1, 0],\n",
       " [0, 2],\n",
       " [-1, 1],\n",
       " [1, 3],\n",
       " [0, 5],\n",
       " [1, 6],\n",
       " [5, 6],\n",
       " [4, 7],\n",
       " [4, 6],\n",
       " [5, 8],\n",
       " [7, 8],\n",
       " [-1, 8],\n",
       " [-1, 9],\n",
       " [-1, 10],\n",
       " [9, 10],\n",
       " [11, 12],\n",
       " [11, 15],\n",
       " [12, 13],\n",
       " [13, 14],\n",
       " [14, 15],\n",
       " [-1, 13],\n",
       " [9, 12],\n",
       " [4, 14],\n",
       " [16, 17],\n",
       " [16, 18],\n",
       " [17, 19],\n",
       " [18, 19],\n",
       " [10, 17],\n",
       " [11, 16],\n",
       " [15, 18],\n",
       " [7, 19]]"
      ]
     },
     "execution_count": 102,
     "metadata": {},
     "output_type": "execute_result"
    }
   ],
   "source": [
    "vor.ridge_vertices"
   ]
  },
  {
   "cell_type": "code",
   "execution_count": 105,
   "id": "a9edd444",
   "metadata": {},
   "outputs": [
    {
     "name": "stdout",
     "output_type": "stream",
     "text": [
      "POLYGON ((-22.90010550907429 -43.58099963569809, -23.104110697121143 -43.3827491418247, -22.966207911454692 -43.61333623554082, -22.90010550907429 -43.58099963569809))\n",
      "POLYGON ((-22.966207911454692 -43.61333623554082, -23.018986393585983 -43.60589086290893, -23.104110697121143 -43.3827491418247, -22.966207911454692 -43.61333623554082))\n",
      "POLYGON ((-22.90010550907429 -43.58099963569809, -22.91224536046571 -43.5017138819657, -23.104110697121143 -43.3827491418247, -22.90010550907429 -43.58099963569809))\n",
      "POLYGON ((-22.94015234484009 -43.490048369583924, -22.91224536046571 -43.5017138819657, -22.90010550907429 -43.58099963569809, -22.966207911454692 -43.61333623554082, -23.018986393585983 -43.60589086290893, -22.945442834446066 -43.495021083978635, -22.94015234484009 -43.490048369583924))\n",
      "POLYGON ((-23.84505191047567 -43.36863352226574, -22.945442834446066 -43.495021083978635, -22.94015234484009 -43.490048369583924, -22.943080512973903 -43.46895214447194, -23.207980718965253 -43.38926367547492, -23.84505191047567 -43.36863352226574))\n",
      "POLYGON ((-23.104110697121143 -43.3827491418247, -23.018986393585983 -43.60589086290893, -22.945442834446066 -43.495021083978635, -23.84505191047567 -43.36863352226574, -23.104110697121143 -43.3827491418247))\n",
      "ok\n",
      "POLYGON ((-22.962934885338086 -43.29738777193869, -23.104110697121143 -43.3827491418247, -22.852342354995685 -43.220717726657305, -22.962934885338086 -43.29738777193869))\n",
      "POLYGON ((-22.94184896123436 -43.44160376315053, -22.950963240423828 -43.37071525560297, -22.912400915631984 -43.35723704302219, -22.885643024803493 -43.40822562238022, -22.939394662935555 -43.445831236942446, -22.94184896123436 -43.44160376315053))\n",
      "POLYGON ((-22.885643024803493 -43.40822562238022, -23.104110697121143 -43.3827491418247, -22.852342354995685 -43.220717726657305, -22.912400915631984 -43.35723704302219, -22.885643024803493 -43.40822562238022))\n",
      "POLYGON ((-22.939394662935555 -43.445831236942446, -22.943080512973903 -43.46895214447194, -22.94015234484009 -43.490048369583924, -22.91224536046571 -43.5017138819657, -23.104110697121143 -43.3827491418247, -22.885643024803493 -43.40822562238022, -22.939394662935555 -43.445831236942446))\n",
      "POLYGON ((-23.104110697121143 -43.3827491418247, -22.97182321601523 -43.32959793970654, -22.960523001695414 -43.36369288528443, -23.016044299361592 -43.392823462738136, -23.104110697121143 -43.3827491418247))\n",
      "POLYGON ((-22.97182321601523 -43.32959793970654, -22.962934885338086 -43.29738777193869, -22.852342354995685 -43.220717726657305, -22.912400915631984 -43.35723704302219, -22.950963240423828 -43.37071525560297, -22.960523001695414 -43.36369288528443, -22.97182321601523 -43.32959793970654))\n",
      "POLYGON ((-23.016044299361592 -43.392823462738136, -22.94184896123436 -43.44160376315053, -22.950963240423828 -43.37071525560297, -22.960523001695414 -43.36369288528443, -23.016044299361592 -43.392823462738136))\n",
      "POLYGON ((-23.104110697121143 -43.3827491418247, -23.207980718965253 -43.38926367547492, -23.84505191047567 -43.36863352226574, -23.104110697121143 -43.3827491418247, -22.962934885338086 -43.29738777193869, -22.97182321601523 -43.32959793970654, -23.104110697121143 -43.3827491418247))\n",
      "POLYGON ((-23.104110697121143 -43.3827491418247, -23.207980718965253 -43.38926367547492, -22.943080512973903 -43.46895214447194, -22.939394662935555 -43.445831236942446, -22.94184896123436 -43.44160376315053, -23.016044299361592 -43.392823462738136, -23.104110697121143 -43.3827491418247))\n"
     ]
    }
   ],
   "source": [
    "lines=[]\n",
    "for line in vor.regions:\n",
    "    try:\n",
    "        print(Polygon(vor.vertices[line]))\n",
    "        lines.append(Polygon(vor.vertices[line]))\n",
    "    except:\n",
    "        print('ok')"
   ]
  },
  {
   "cell_type": "code",
   "execution_count": 54,
   "id": "fc2450d7",
   "metadata": {},
   "outputs": [],
   "source": [
    "import fiona\n",
    "from shapely.geometry import shape, mapping, LineString, Polygon"
   ]
  },
  {
   "cell_type": "code",
   "execution_count": 107,
   "id": "cfff4c20",
   "metadata": {},
   "outputs": [],
   "source": [
    "gpd_df = gpd.GeoDataFrame(lines)"
   ]
  },
  {
   "cell_type": "code",
   "execution_count": 108,
   "id": "d613f83e",
   "metadata": {},
   "outputs": [
    {
     "data": {
      "text/html": [
       "<div>\n",
       "<style scoped>\n",
       "    .dataframe tbody tr th:only-of-type {\n",
       "        vertical-align: middle;\n",
       "    }\n",
       "\n",
       "    .dataframe tbody tr th {\n",
       "        vertical-align: top;\n",
       "    }\n",
       "\n",
       "    .dataframe thead th {\n",
       "        text-align: right;\n",
       "    }\n",
       "</style>\n",
       "<table border=\"1\" class=\"dataframe\">\n",
       "  <thead>\n",
       "    <tr style=\"text-align: right;\">\n",
       "      <th></th>\n",
       "      <th>0</th>\n",
       "    </tr>\n",
       "  </thead>\n",
       "  <tbody>\n",
       "    <tr>\n",
       "      <th>0</th>\n",
       "      <td>POLYGON ((-22.90010550907429 -43.5809996356980...</td>\n",
       "    </tr>\n",
       "    <tr>\n",
       "      <th>1</th>\n",
       "      <td>POLYGON ((-22.966207911454692 -43.613336235540...</td>\n",
       "    </tr>\n",
       "    <tr>\n",
       "      <th>2</th>\n",
       "      <td>POLYGON ((-22.90010550907429 -43.5809996356980...</td>\n",
       "    </tr>\n",
       "    <tr>\n",
       "      <th>3</th>\n",
       "      <td>POLYGON ((-22.94015234484009 -43.4900483695839...</td>\n",
       "    </tr>\n",
       "    <tr>\n",
       "      <th>4</th>\n",
       "      <td>POLYGON ((-23.84505191047567 -43.3686335222657...</td>\n",
       "    </tr>\n",
       "    <tr>\n",
       "      <th>5</th>\n",
       "      <td>POLYGON ((-23.104110697121143 -43.382749141824...</td>\n",
       "    </tr>\n",
       "    <tr>\n",
       "      <th>6</th>\n",
       "      <td>POLYGON ((-22.962934885338086 -43.297387771938...</td>\n",
       "    </tr>\n",
       "    <tr>\n",
       "      <th>7</th>\n",
       "      <td>POLYGON ((-22.94184896123436 -43.4416037631505...</td>\n",
       "    </tr>\n",
       "    <tr>\n",
       "      <th>8</th>\n",
       "      <td>POLYGON ((-22.885643024803493 -43.408225622380...</td>\n",
       "    </tr>\n",
       "    <tr>\n",
       "      <th>9</th>\n",
       "      <td>POLYGON ((-22.939394662935555 -43.445831236942...</td>\n",
       "    </tr>\n",
       "    <tr>\n",
       "      <th>10</th>\n",
       "      <td>POLYGON ((-23.104110697121143 -43.382749141824...</td>\n",
       "    </tr>\n",
       "    <tr>\n",
       "      <th>11</th>\n",
       "      <td>POLYGON ((-22.97182321601523 -43.3295979397065...</td>\n",
       "    </tr>\n",
       "    <tr>\n",
       "      <th>12</th>\n",
       "      <td>POLYGON ((-23.016044299361592 -43.392823462738...</td>\n",
       "    </tr>\n",
       "    <tr>\n",
       "      <th>13</th>\n",
       "      <td>POLYGON ((-23.104110697121143 -43.382749141824...</td>\n",
       "    </tr>\n",
       "    <tr>\n",
       "      <th>14</th>\n",
       "      <td>POLYGON ((-23.104110697121143 -43.382749141824...</td>\n",
       "    </tr>\n",
       "  </tbody>\n",
       "</table>\n",
       "</div>"
      ],
      "text/plain": [
       "                                                    0\n",
       "0   POLYGON ((-22.90010550907429 -43.5809996356980...\n",
       "1   POLYGON ((-22.966207911454692 -43.613336235540...\n",
       "2   POLYGON ((-22.90010550907429 -43.5809996356980...\n",
       "3   POLYGON ((-22.94015234484009 -43.4900483695839...\n",
       "4   POLYGON ((-23.84505191047567 -43.3686335222657...\n",
       "5   POLYGON ((-23.104110697121143 -43.382749141824...\n",
       "6   POLYGON ((-22.962934885338086 -43.297387771938...\n",
       "7   POLYGON ((-22.94184896123436 -43.4416037631505...\n",
       "8   POLYGON ((-22.885643024803493 -43.408225622380...\n",
       "9   POLYGON ((-22.939394662935555 -43.445831236942...\n",
       "10  POLYGON ((-23.104110697121143 -43.382749141824...\n",
       "11  POLYGON ((-22.97182321601523 -43.3295979397065...\n",
       "12  POLYGON ((-23.016044299361592 -43.392823462738...\n",
       "13  POLYGON ((-23.104110697121143 -43.382749141824...\n",
       "14  POLYGON ((-23.104110697121143 -43.382749141824..."
      ]
     },
     "execution_count": 108,
     "metadata": {},
     "output_type": "execute_result"
    }
   ],
   "source": [
    "gpd_df"
   ]
  },
  {
   "cell_type": "code",
   "execution_count": 58,
   "id": "c508c666",
   "metadata": {},
   "outputs": [
    {
     "name": "stdout",
     "output_type": "stream",
     "text": [
      "POLYGON ((-22.966207911454692 -43.61333623554082, -22.90010550907429 -43.58099963569809, -22.966207911454692 -43.61333623554082, -22.966207911454692 -43.61333623554082))\n",
      "POLYGON ((-23.018986393585983 -43.60589086290893, -22.966207911454692 -43.61333623554082, -23.018986393585983 -43.60589086290893, -23.018986393585983 -43.60589086290893))\n",
      "POLYGON ((-22.91224536046571 -43.5017138819657, -22.90010550907429 -43.58099963569809, -22.91224536046571 -43.5017138819657, -22.91224536046571 -43.5017138819657))\n",
      "POLYGON ((-23.018986393585983 -43.60589086290893, -22.945442834446066 -43.495021083978635, -23.018986393585983 -43.60589086290893, -23.018986393585983 -43.60589086290893))\n",
      "POLYGON ((-22.91224536046571 -43.5017138819657, -22.94015234484009 -43.490048369583924, -22.91224536046571 -43.5017138819657, -22.91224536046571 -43.5017138819657))\n",
      "POLYGON ((-22.945442834446066 -43.495021083978635, -22.94015234484009 -43.490048369583924, -22.945442834446066 -43.495021083978635, -22.945442834446066 -43.495021083978635))\n",
      "POLYGON ((-22.943080512973903 -43.46895214447194, -23.207980718965253 -43.38926367547492, -22.943080512973903 -43.46895214447194, -22.943080512973903 -43.46895214447194))\n",
      "POLYGON ((-22.943080512973903 -43.46895214447194, -22.94015234484009 -43.490048369583924, -22.943080512973903 -43.46895214447194, -22.943080512973903 -43.46895214447194))\n",
      "POLYGON ((-22.945442834446066 -43.495021083978635, -23.84505191047567 -43.36863352226574, -22.945442834446066 -43.495021083978635, -22.945442834446066 -43.495021083978635))\n",
      "POLYGON ((-23.207980718965253 -43.38926367547492, -23.84505191047567 -43.36863352226574, -23.207980718965253 -43.38926367547492, -23.207980718965253 -43.38926367547492))\n",
      "POLYGON ((-22.852342354995685 -43.220717726657305, -22.962934885338086 -43.29738777193869, -22.852342354995685 -43.220717726657305, -22.852342354995685 -43.220717726657305))\n",
      "POLYGON ((-22.950963240423828 -43.37071525560297, -22.912400915631984 -43.35723704302219, -22.950963240423828 -43.37071525560297, -22.950963240423828 -43.37071525560297))\n",
      "POLYGON ((-22.950963240423828 -43.37071525560297, -22.94184896123436 -43.44160376315053, -22.950963240423828 -43.37071525560297, -22.950963240423828 -43.37071525560297))\n",
      "POLYGON ((-22.912400915631984 -43.35723704302219, -22.885643024803493 -43.40822562238022, -22.912400915631984 -43.35723704302219, -22.912400915631984 -43.35723704302219))\n",
      "POLYGON ((-22.885643024803493 -43.40822562238022, -22.939394662935555 -43.445831236942446, -22.885643024803493 -43.40822562238022, -22.885643024803493 -43.40822562238022))\n",
      "POLYGON ((-22.939394662935555 -43.445831236942446, -22.94184896123436 -43.44160376315053, -22.939394662935555 -43.445831236942446, -22.939394662935555 -43.445831236942446))\n",
      "POLYGON ((-22.852342354995685 -43.220717726657305, -22.912400915631984 -43.35723704302219, -22.852342354995685 -43.220717726657305, -22.852342354995685 -43.220717726657305))\n",
      "POLYGON ((-22.943080512973903 -43.46895214447194, -22.939394662935555 -43.445831236942446, -22.943080512973903 -43.46895214447194, -22.943080512973903 -43.46895214447194))\n",
      "POLYGON ((-22.960523001695414 -43.36369288528443, -22.97182321601523 -43.32959793970654, -22.960523001695414 -43.36369288528443, -22.960523001695414 -43.36369288528443))\n",
      "POLYGON ((-22.960523001695414 -43.36369288528443, -23.016044299361592 -43.392823462738136, -22.960523001695414 -43.36369288528443, -22.960523001695414 -43.36369288528443))\n",
      "POLYGON ((-22.97182321601523 -43.32959793970654, -23.104110697121143 -43.3827491418247, -22.97182321601523 -43.32959793970654, -22.97182321601523 -43.32959793970654))\n",
      "POLYGON ((-23.016044299361592 -43.392823462738136, -23.104110697121143 -43.3827491418247, -23.016044299361592 -43.392823462738136, -23.016044299361592 -43.392823462738136))\n",
      "POLYGON ((-22.962934885338086 -43.29738777193869, -22.97182321601523 -43.32959793970654, -22.962934885338086 -43.29738777193869, -22.962934885338086 -43.29738777193869))\n",
      "POLYGON ((-22.950963240423828 -43.37071525560297, -22.960523001695414 -43.36369288528443, -22.950963240423828 -43.37071525560297, -22.950963240423828 -43.37071525560297))\n",
      "POLYGON ((-22.94184896123436 -43.44160376315053, -23.016044299361592 -43.392823462738136, -22.94184896123436 -43.44160376315053, -22.94184896123436 -43.44160376315053))\n",
      "POLYGON ((-23.207980718965253 -43.38926367547492, -23.104110697121143 -43.3827491418247, -23.207980718965253 -43.38926367547492, -23.207980718965253 -43.38926367547492))\n"
     ]
    }
   ],
   "source": [
    "dict = {'geometry':[],'properties':[]}\n",
    "for l in lines:\n",
    "        line = shape(l)\n",
    "        coordinates = []\n",
    "\n",
    "        if isinstance(line, LineString):\n",
    "            for index, point in enumerate(line.coords):\n",
    "                if index == 0:\n",
    "                    first_pt = point\n",
    "                coordinates.append(point)\n",
    "\n",
    "            coordinates.append(first_pt)\n",
    "            if len(coordinates) >= 3:\n",
    "                polygon = Polygon(coordinates)\n",
    "                print(polygon)\n",
    "                dict['geometry'].append(mapping(polygon)),\n",
    "                "
   ]
  },
  {
   "cell_type": "code",
   "execution_count": 64,
   "id": "a0614e04",
   "metadata": {},
   "outputs": [],
   "source": [
    "import geopandas as gpd\n"
   ]
  },
  {
   "cell_type": "code",
   "execution_count": 66,
   "id": "bb4f8109",
   "metadata": {},
   "outputs": [],
   "source": [
    "gpd_df = gpd.GeoDataFrame(dict['geometry'])"
   ]
  },
  {
   "cell_type": "code",
   "execution_count": 85,
   "id": "9a063d9e",
   "metadata": {},
   "outputs": [
    {
     "data": {
      "text/plain": [
       "((-23.018986393585983, -43.60589086290893),\n",
       " (-22.945442834446066, -43.495021083978635),\n",
       " (-23.018986393585983, -43.60589086290893),\n",
       " (-23.018986393585983, -43.60589086290893))"
      ]
     },
     "execution_count": 85,
     "metadata": {},
     "output_type": "execute_result"
    }
   ],
   "source": [
    "gpd_df['coordinates'][3][0]"
   ]
  },
  {
   "cell_type": "code",
   "execution_count": 77,
   "id": "dd59b62b",
   "metadata": {},
   "outputs": [],
   "source": [
    "gpd_df['geom']=gpd_df['coordinates'].apply(lambda x:Polygon(x[0]))"
   ]
  },
  {
   "cell_type": "code",
   "execution_count": 78,
   "id": "f9ed8f8d",
   "metadata": {},
   "outputs": [
    {
     "data": {
      "text/html": [
       "<div>\n",
       "<style scoped>\n",
       "    .dataframe tbody tr th:only-of-type {\n",
       "        vertical-align: middle;\n",
       "    }\n",
       "\n",
       "    .dataframe tbody tr th {\n",
       "        vertical-align: top;\n",
       "    }\n",
       "\n",
       "    .dataframe thead th {\n",
       "        text-align: right;\n",
       "    }\n",
       "</style>\n",
       "<table border=\"1\" class=\"dataframe\">\n",
       "  <thead>\n",
       "    <tr style=\"text-align: right;\">\n",
       "      <th></th>\n",
       "      <th>type</th>\n",
       "      <th>coordinates</th>\n",
       "      <th>geom</th>\n",
       "    </tr>\n",
       "  </thead>\n",
       "  <tbody>\n",
       "    <tr>\n",
       "      <th>0</th>\n",
       "      <td>Polygon</td>\n",
       "      <td>(((-22.966207911454692, -43.61333623554082), (...</td>\n",
       "      <td>POLYGON ((-22.966207911454692 -43.613336235540...</td>\n",
       "    </tr>\n",
       "    <tr>\n",
       "      <th>1</th>\n",
       "      <td>Polygon</td>\n",
       "      <td>(((-23.018986393585983, -43.60589086290893), (...</td>\n",
       "      <td>POLYGON ((-23.018986393585983 -43.605890862908...</td>\n",
       "    </tr>\n",
       "    <tr>\n",
       "      <th>2</th>\n",
       "      <td>Polygon</td>\n",
       "      <td>(((-22.91224536046571, -43.5017138819657), (-2...</td>\n",
       "      <td>POLYGON ((-22.91224536046571 -43.5017138819657...</td>\n",
       "    </tr>\n",
       "    <tr>\n",
       "      <th>3</th>\n",
       "      <td>Polygon</td>\n",
       "      <td>(((-23.018986393585983, -43.60589086290893), (...</td>\n",
       "      <td>POLYGON ((-23.018986393585983 -43.605890862908...</td>\n",
       "    </tr>\n",
       "    <tr>\n",
       "      <th>4</th>\n",
       "      <td>Polygon</td>\n",
       "      <td>(((-22.91224536046571, -43.5017138819657), (-2...</td>\n",
       "      <td>POLYGON ((-22.91224536046571 -43.5017138819657...</td>\n",
       "    </tr>\n",
       "    <tr>\n",
       "      <th>5</th>\n",
       "      <td>Polygon</td>\n",
       "      <td>(((-22.945442834446066, -43.495021083978635), ...</td>\n",
       "      <td>POLYGON ((-22.945442834446066 -43.495021083978...</td>\n",
       "    </tr>\n",
       "    <tr>\n",
       "      <th>6</th>\n",
       "      <td>Polygon</td>\n",
       "      <td>(((-22.943080512973903, -43.46895214447194), (...</td>\n",
       "      <td>POLYGON ((-22.943080512973903 -43.468952144471...</td>\n",
       "    </tr>\n",
       "    <tr>\n",
       "      <th>7</th>\n",
       "      <td>Polygon</td>\n",
       "      <td>(((-22.943080512973903, -43.46895214447194), (...</td>\n",
       "      <td>POLYGON ((-22.943080512973903 -43.468952144471...</td>\n",
       "    </tr>\n",
       "    <tr>\n",
       "      <th>8</th>\n",
       "      <td>Polygon</td>\n",
       "      <td>(((-22.945442834446066, -43.495021083978635), ...</td>\n",
       "      <td>POLYGON ((-22.945442834446066 -43.495021083978...</td>\n",
       "    </tr>\n",
       "    <tr>\n",
       "      <th>9</th>\n",
       "      <td>Polygon</td>\n",
       "      <td>(((-23.207980718965253, -43.38926367547492), (...</td>\n",
       "      <td>POLYGON ((-23.207980718965253 -43.389263675474...</td>\n",
       "    </tr>\n",
       "    <tr>\n",
       "      <th>10</th>\n",
       "      <td>Polygon</td>\n",
       "      <td>(((-22.852342354995685, -43.220717726657305), ...</td>\n",
       "      <td>POLYGON ((-22.852342354995685 -43.220717726657...</td>\n",
       "    </tr>\n",
       "    <tr>\n",
       "      <th>11</th>\n",
       "      <td>Polygon</td>\n",
       "      <td>(((-22.950963240423828, -43.37071525560297), (...</td>\n",
       "      <td>POLYGON ((-22.950963240423828 -43.370715255602...</td>\n",
       "    </tr>\n",
       "    <tr>\n",
       "      <th>12</th>\n",
       "      <td>Polygon</td>\n",
       "      <td>(((-22.950963240423828, -43.37071525560297), (...</td>\n",
       "      <td>POLYGON ((-22.950963240423828 -43.370715255602...</td>\n",
       "    </tr>\n",
       "    <tr>\n",
       "      <th>13</th>\n",
       "      <td>Polygon</td>\n",
       "      <td>(((-22.912400915631984, -43.35723704302219), (...</td>\n",
       "      <td>POLYGON ((-22.912400915631984 -43.357237043022...</td>\n",
       "    </tr>\n",
       "    <tr>\n",
       "      <th>14</th>\n",
       "      <td>Polygon</td>\n",
       "      <td>(((-22.885643024803493, -43.40822562238022), (...</td>\n",
       "      <td>POLYGON ((-22.885643024803493 -43.408225622380...</td>\n",
       "    </tr>\n",
       "    <tr>\n",
       "      <th>15</th>\n",
       "      <td>Polygon</td>\n",
       "      <td>(((-22.939394662935555, -43.445831236942446), ...</td>\n",
       "      <td>POLYGON ((-22.939394662935555 -43.445831236942...</td>\n",
       "    </tr>\n",
       "    <tr>\n",
       "      <th>16</th>\n",
       "      <td>Polygon</td>\n",
       "      <td>(((-22.852342354995685, -43.220717726657305), ...</td>\n",
       "      <td>POLYGON ((-22.852342354995685 -43.220717726657...</td>\n",
       "    </tr>\n",
       "    <tr>\n",
       "      <th>17</th>\n",
       "      <td>Polygon</td>\n",
       "      <td>(((-22.943080512973903, -43.46895214447194), (...</td>\n",
       "      <td>POLYGON ((-22.943080512973903 -43.468952144471...</td>\n",
       "    </tr>\n",
       "    <tr>\n",
       "      <th>18</th>\n",
       "      <td>Polygon</td>\n",
       "      <td>(((-22.960523001695414, -43.36369288528443), (...</td>\n",
       "      <td>POLYGON ((-22.960523001695414 -43.363692885284...</td>\n",
       "    </tr>\n",
       "    <tr>\n",
       "      <th>19</th>\n",
       "      <td>Polygon</td>\n",
       "      <td>(((-22.960523001695414, -43.36369288528443), (...</td>\n",
       "      <td>POLYGON ((-22.960523001695414 -43.363692885284...</td>\n",
       "    </tr>\n",
       "    <tr>\n",
       "      <th>20</th>\n",
       "      <td>Polygon</td>\n",
       "      <td>(((-22.97182321601523, -43.32959793970654), (-...</td>\n",
       "      <td>POLYGON ((-22.97182321601523 -43.3295979397065...</td>\n",
       "    </tr>\n",
       "    <tr>\n",
       "      <th>21</th>\n",
       "      <td>Polygon</td>\n",
       "      <td>(((-23.016044299361592, -43.392823462738136), ...</td>\n",
       "      <td>POLYGON ((-23.016044299361592 -43.392823462738...</td>\n",
       "    </tr>\n",
       "    <tr>\n",
       "      <th>22</th>\n",
       "      <td>Polygon</td>\n",
       "      <td>(((-22.962934885338086, -43.29738777193869), (...</td>\n",
       "      <td>POLYGON ((-22.962934885338086 -43.297387771938...</td>\n",
       "    </tr>\n",
       "    <tr>\n",
       "      <th>23</th>\n",
       "      <td>Polygon</td>\n",
       "      <td>(((-22.950963240423828, -43.37071525560297), (...</td>\n",
       "      <td>POLYGON ((-22.950963240423828 -43.370715255602...</td>\n",
       "    </tr>\n",
       "    <tr>\n",
       "      <th>24</th>\n",
       "      <td>Polygon</td>\n",
       "      <td>(((-22.94184896123436, -43.44160376315053), (-...</td>\n",
       "      <td>POLYGON ((-22.94184896123436 -43.4416037631505...</td>\n",
       "    </tr>\n",
       "    <tr>\n",
       "      <th>25</th>\n",
       "      <td>Polygon</td>\n",
       "      <td>(((-23.207980718965253, -43.38926367547492), (...</td>\n",
       "      <td>POLYGON ((-23.207980718965253 -43.389263675474...</td>\n",
       "    </tr>\n",
       "  </tbody>\n",
       "</table>\n",
       "</div>"
      ],
      "text/plain": [
       "       type                                        coordinates  \\\n",
       "0   Polygon  (((-22.966207911454692, -43.61333623554082), (...   \n",
       "1   Polygon  (((-23.018986393585983, -43.60589086290893), (...   \n",
       "2   Polygon  (((-22.91224536046571, -43.5017138819657), (-2...   \n",
       "3   Polygon  (((-23.018986393585983, -43.60589086290893), (...   \n",
       "4   Polygon  (((-22.91224536046571, -43.5017138819657), (-2...   \n",
       "5   Polygon  (((-22.945442834446066, -43.495021083978635), ...   \n",
       "6   Polygon  (((-22.943080512973903, -43.46895214447194), (...   \n",
       "7   Polygon  (((-22.943080512973903, -43.46895214447194), (...   \n",
       "8   Polygon  (((-22.945442834446066, -43.495021083978635), ...   \n",
       "9   Polygon  (((-23.207980718965253, -43.38926367547492), (...   \n",
       "10  Polygon  (((-22.852342354995685, -43.220717726657305), ...   \n",
       "11  Polygon  (((-22.950963240423828, -43.37071525560297), (...   \n",
       "12  Polygon  (((-22.950963240423828, -43.37071525560297), (...   \n",
       "13  Polygon  (((-22.912400915631984, -43.35723704302219), (...   \n",
       "14  Polygon  (((-22.885643024803493, -43.40822562238022), (...   \n",
       "15  Polygon  (((-22.939394662935555, -43.445831236942446), ...   \n",
       "16  Polygon  (((-22.852342354995685, -43.220717726657305), ...   \n",
       "17  Polygon  (((-22.943080512973903, -43.46895214447194), (...   \n",
       "18  Polygon  (((-22.960523001695414, -43.36369288528443), (...   \n",
       "19  Polygon  (((-22.960523001695414, -43.36369288528443), (...   \n",
       "20  Polygon  (((-22.97182321601523, -43.32959793970654), (-...   \n",
       "21  Polygon  (((-23.016044299361592, -43.392823462738136), ...   \n",
       "22  Polygon  (((-22.962934885338086, -43.29738777193869), (...   \n",
       "23  Polygon  (((-22.950963240423828, -43.37071525560297), (...   \n",
       "24  Polygon  (((-22.94184896123436, -43.44160376315053), (-...   \n",
       "25  Polygon  (((-23.207980718965253, -43.38926367547492), (...   \n",
       "\n",
       "                                                 geom  \n",
       "0   POLYGON ((-22.966207911454692 -43.613336235540...  \n",
       "1   POLYGON ((-23.018986393585983 -43.605890862908...  \n",
       "2   POLYGON ((-22.91224536046571 -43.5017138819657...  \n",
       "3   POLYGON ((-23.018986393585983 -43.605890862908...  \n",
       "4   POLYGON ((-22.91224536046571 -43.5017138819657...  \n",
       "5   POLYGON ((-22.945442834446066 -43.495021083978...  \n",
       "6   POLYGON ((-22.943080512973903 -43.468952144471...  \n",
       "7   POLYGON ((-22.943080512973903 -43.468952144471...  \n",
       "8   POLYGON ((-22.945442834446066 -43.495021083978...  \n",
       "9   POLYGON ((-23.207980718965253 -43.389263675474...  \n",
       "10  POLYGON ((-22.852342354995685 -43.220717726657...  \n",
       "11  POLYGON ((-22.950963240423828 -43.370715255602...  \n",
       "12  POLYGON ((-22.950963240423828 -43.370715255602...  \n",
       "13  POLYGON ((-22.912400915631984 -43.357237043022...  \n",
       "14  POLYGON ((-22.885643024803493 -43.408225622380...  \n",
       "15  POLYGON ((-22.939394662935555 -43.445831236942...  \n",
       "16  POLYGON ((-22.852342354995685 -43.220717726657...  \n",
       "17  POLYGON ((-22.943080512973903 -43.468952144471...  \n",
       "18  POLYGON ((-22.960523001695414 -43.363692885284...  \n",
       "19  POLYGON ((-22.960523001695414 -43.363692885284...  \n",
       "20  POLYGON ((-22.97182321601523 -43.3295979397065...  \n",
       "21  POLYGON ((-23.016044299361592 -43.392823462738...  \n",
       "22  POLYGON ((-22.962934885338086 -43.297387771938...  \n",
       "23  POLYGON ((-22.950963240423828 -43.370715255602...  \n",
       "24  POLYGON ((-22.94184896123436 -43.4416037631505...  \n",
       "25  POLYGON ((-23.207980718965253 -43.389263675474...  "
      ]
     },
     "execution_count": 78,
     "metadata": {},
     "output_type": "execute_result"
    }
   ],
   "source": [
    "gpd_df"
   ]
  },
  {
   "cell_type": "code",
   "execution_count": 114,
   "id": "e3205261",
   "metadata": {},
   "outputs": [
    {
     "name": "stderr",
     "output_type": "stream",
     "text": [
      "/home/matheus/.pyenv/versions/3.8.12/envs/lewagon/lib/python3.8/site-packages/geopandas/plotting.py:693: UserWarning: The GeoDataFrame you are attempting to plot is empty. Nothing has been displayed.\n",
      "  warnings.warn(\n"
     ]
    },
    {
     "ename": "NameError",
     "evalue": "name 'self' is not defined",
     "output_type": "error",
     "traceback": [
      "\u001b[0;31m---------------------------------------------------------------------------\u001b[0m",
      "\u001b[0;31mNameError\u001b[0m                                 Traceback (most recent call last)",
      "\u001b[0;32m/tmp/ipykernel_31637/203495669.py\u001b[0m in \u001b[0;36m<module>\u001b[0;34m\u001b[0m\n\u001b[0;32m----> 1\u001b[0;31m \u001b[0mself\u001b[0m\u001b[0;34m.\u001b[0m\u001b[0max\u001b[0m \u001b[0;34m=\u001b[0m \u001b[0mgpd\u001b[0m\u001b[0;34m.\u001b[0m\u001b[0mGeoDataFrame\u001b[0m\u001b[0;34m(\u001b[0m\u001b[0mgeometry\u001b[0m\u001b[0;34m=\u001b[0m\u001b[0;34m[\u001b[0m\u001b[0;34m]\u001b[0m\u001b[0;34m)\u001b[0m\u001b[0;34m.\u001b[0m\u001b[0mplot\u001b[0m\u001b[0;34m(\u001b[0m\u001b[0mfigsize\u001b[0m\u001b[0;34m=\u001b[0m\u001b[0;34m(\u001b[0m\u001b[0;36m18\u001b[0m\u001b[0;34m,\u001b[0m \u001b[0;36m12\u001b[0m\u001b[0;34m)\u001b[0m\u001b[0;34m)\u001b[0m\u001b[0;34m\u001b[0m\u001b[0;34m\u001b[0m\u001b[0m\n\u001b[0m\u001b[1;32m      2\u001b[0m \u001b[0mplt\u001b[0m\u001b[0;34m.\u001b[0m\u001b[0mshow\u001b[0m\u001b[0;34m(\u001b[0m\u001b[0;34m)\u001b[0m\u001b[0;34m\u001b[0m\u001b[0;34m\u001b[0m\u001b[0m\n",
      "\u001b[0;31mNameError\u001b[0m: name 'self' is not defined"
     ]
    },
    {
     "data": {
      "image/png": "[encoded data removed]",
      "text/plain": [
       "<Figure size 1296x864 with 1 Axes>"
      ]
     },
     "metadata": {
      "needs_background": "light"
     },
     "output_type": "display_data"
    }
   ],
   "source": [
    "self.ax = gpd.GeoDataFrame(geometry=[]).plot(figsize=(18, 12))\n",
    "plt.show()"
   ]
  },
  {
   "cell_type": "code",
   "execution_count": 116,
   "id": "06a2572a",
   "metadata": {},
   "outputs": [
    {
     "ename": "ValueError",
     "evalue": "Cannot render objects with any missing geometries:                                                     0\n0   POLYGON ((-22.90010550907429 -43.5809996356980...\n1   POLYGON ((-22.966207911454692 -43.613336235540...\n2   POLYGON ((-22.90010550907429 -43.5809996356980...\n3   POLYGON ((-22.94015234484009 -43.4900483695839...\n4   POLYGON ((-23.84505191047567 -43.3686335222657...\n5   POLYGON ((-23.104110697121143 -43.382749141824...\n6   POLYGON ((-22.962934885338086 -43.297387771938...\n7   POLYGON ((-22.94184896123436 -43.4416037631505...\n8   POLYGON ((-22.885643024803493 -43.408225622380...\n9   POLYGON ((-22.939394662935555 -43.445831236942...\n10  POLYGON ((-23.104110697121143 -43.382749141824...\n11  POLYGON ((-22.97182321601523 -43.3295979397065...\n12  POLYGON ((-23.016044299361592 -43.392823462738...\n13  POLYGON ((-23.104110697121143 -43.382749141824...\n14  POLYGON ((-23.104110697121143 -43.382749141824...",
     "output_type": "error",
     "traceback": [
      "\u001b[0;31m---------------------------------------------------------------------------\u001b[0m",
      "\u001b[0;31mValueError\u001b[0m                                Traceback (most recent call last)",
      "\u001b[0;32m/tmp/ipykernel_31637/3188728685.py\u001b[0m in \u001b[0;36m<module>\u001b[0;34m\u001b[0m\n\u001b[0;32m----> 1\u001b[0;31m folium.Choropleth(gpd_df,\n\u001b[0m\u001b[1;32m      2\u001b[0m     name='geojson').add_to(m)\n",
      "\u001b[0;32m~/.pyenv/versions/3.8.12/envs/lewagon/lib/python3.8/site-packages/folium/features.py\u001b[0m in \u001b[0;36m__init__\u001b[0;34m(self, geo_data, data, columns, key_on, bins, fill_color, nan_fill_color, fill_opacity, nan_fill_opacity, line_color, line_weight, line_opacity, name, legend_name, overlay, control, show, topojson, smooth_factor, highlight, **kwargs)\u001b[0m\n\u001b[1;32m   1287\u001b[0m                 smooth_factor=smooth_factor)\n\u001b[1;32m   1288\u001b[0m         \u001b[0;32melse\u001b[0m\u001b[0;34m:\u001b[0m\u001b[0;34m\u001b[0m\u001b[0;34m\u001b[0m\u001b[0m\n\u001b[0;32m-> 1289\u001b[0;31m             self.geojson = GeoJson(\n\u001b[0m\u001b[1;32m   1290\u001b[0m                 \u001b[0mgeo_data\u001b[0m\u001b[0;34m,\u001b[0m\u001b[0;34m\u001b[0m\u001b[0;34m\u001b[0m\u001b[0m\n\u001b[1;32m   1291\u001b[0m                 \u001b[0mstyle_function\u001b[0m\u001b[0;34m=\u001b[0m\u001b[0mstyle_function\u001b[0m\u001b[0;34m,\u001b[0m\u001b[0;34m\u001b[0m\u001b[0;34m\u001b[0m\u001b[0m\n",
      "\u001b[0;32m~/.pyenv/versions/3.8.12/envs/lewagon/lib/python3.8/site-packages/folium/features.py\u001b[0m in \u001b[0;36m__init__\u001b[0;34m(self, data, style_function, highlight_function, name, overlay, control, show, smooth_factor, tooltip, embed, popup, zoom_on_click, marker)\u001b[0m\n\u001b[1;32m    497\u001b[0m         \u001b[0mself\u001b[0m\u001b[0;34m.\u001b[0m\u001b[0mmarker\u001b[0m \u001b[0;34m=\u001b[0m \u001b[0mmarker\u001b[0m\u001b[0;34m\u001b[0m\u001b[0;34m\u001b[0m\u001b[0m\n\u001b[1;32m    498\u001b[0m \u001b[0;34m\u001b[0m\u001b[0m\n\u001b[0;32m--> 499\u001b[0;31m         \u001b[0mself\u001b[0m\u001b[0;34m.\u001b[0m\u001b[0mdata\u001b[0m \u001b[0;34m=\u001b[0m \u001b[0mself\u001b[0m\u001b[0;34m.\u001b[0m\u001b[0mprocess_data\u001b[0m\u001b[0;34m(\u001b[0m\u001b[0mdata\u001b[0m\u001b[0;34m)\u001b[0m\u001b[0;34m\u001b[0m\u001b[0;34m\u001b[0m\u001b[0m\n\u001b[0m\u001b[1;32m    500\u001b[0m \u001b[0;34m\u001b[0m\u001b[0m\n\u001b[1;32m    501\u001b[0m         \u001b[0;32mif\u001b[0m \u001b[0mself\u001b[0m\u001b[0;34m.\u001b[0m\u001b[0mstyle\u001b[0m \u001b[0;32mor\u001b[0m \u001b[0mself\u001b[0m\u001b[0;34m.\u001b[0m\u001b[0mhighlight\u001b[0m\u001b[0;34m:\u001b[0m\u001b[0;34m\u001b[0m\u001b[0;34m\u001b[0m\u001b[0m\n",
      "\u001b[0;32m~/.pyenv/versions/3.8.12/envs/lewagon/lib/python3.8/site-packages/folium/features.py\u001b[0m in \u001b[0;36mprocess_data\u001b[0;34m(self, data)\u001b[0m\n\u001b[1;32m    542\u001b[0m             \u001b[0;32mreturn\u001b[0m \u001b[0mjson\u001b[0m\u001b[0;34m.\u001b[0m\u001b[0mloads\u001b[0m\u001b[0;34m(\u001b[0m\u001b[0mjson\u001b[0m\u001b[0;34m.\u001b[0m\u001b[0mdumps\u001b[0m\u001b[0;34m(\u001b[0m\u001b[0mdata\u001b[0m\u001b[0;34m.\u001b[0m\u001b[0m__geo_interface__\u001b[0m\u001b[0;34m)\u001b[0m\u001b[0;34m)\u001b[0m\u001b[0;34m\u001b[0m\u001b[0;34m\u001b[0m\u001b[0m\n\u001b[1;32m    543\u001b[0m         \u001b[0;32melse\u001b[0m\u001b[0;34m:\u001b[0m\u001b[0;34m\u001b[0m\u001b[0;34m\u001b[0m\u001b[0m\n\u001b[0;32m--> 544\u001b[0;31m             raise ValueError('Cannot render objects with any missing geometries'\n\u001b[0m\u001b[1;32m    545\u001b[0m                              ': {!r}'.format(data))\n\u001b[1;32m    546\u001b[0m \u001b[0;34m\u001b[0m\u001b[0m\n",
      "\u001b[0;31mValueError\u001b[0m: Cannot render objects with any missing geometries:                                                     0\n0   POLYGON ((-22.90010550907429 -43.5809996356980...\n1   POLYGON ((-22.966207911454692 -43.613336235540...\n2   POLYGON ((-22.90010550907429 -43.5809996356980...\n3   POLYGON ((-22.94015234484009 -43.4900483695839...\n4   POLYGON ((-23.84505191047567 -43.3686335222657...\n5   POLYGON ((-23.104110697121143 -43.382749141824...\n6   POLYGON ((-22.962934885338086 -43.297387771938...\n7   POLYGON ((-22.94184896123436 -43.4416037631505...\n8   POLYGON ((-22.885643024803493 -43.408225622380...\n9   POLYGON ((-22.939394662935555 -43.445831236942...\n10  POLYGON ((-23.104110697121143 -43.382749141824...\n11  POLYGON ((-22.97182321601523 -43.3295979397065...\n12  POLYGON ((-23.016044299361592 -43.392823462738...\n13  POLYGON ((-23.104110697121143 -43.382749141824...\n14  POLYGON ((-23.104110697121143 -43.382749141824..."
     ]
    }
   ],
   "source": [
    "folium.Choropleth(gpd_df,\n",
    "    name='geojson').add_to(m)"
   ]
  },
  {
   "cell_type": "code",
   "execution_count": 21,
   "id": "bd668778",
   "metadata": {},
   "outputs": [],
   "source": [
    "from geovoronoi import voronoi_regions_from_coords, points_to_coords"
   ]
  },
  {
   "cell_type": "code",
   "execution_count": 23,
   "id": "d9dc4d82",
   "metadata": {},
   "outputs": [],
   "source": [
    "from geovoronoi.plotting import subplot_for_map, plot_voronoi_polys_with_points_in_area"
   ]
  },
  {
   "cell_type": "code",
   "execution_count": 24,
   "id": "67744e8c",
   "metadata": {},
   "outputs": [],
   "source": [
    "from shapely.ops import cascaded_union"
   ]
  },
  {
   "cell_type": "markdown",
   "id": "ec6cc42c",
   "metadata": {},
   "source": [
    "## new tests"
   ]
  },
  {
   "cell_type": "code",
   "execution_count": 118,
   "id": "db6887d6",
   "metadata": {},
   "outputs": [],
   "source": [
    "world = gpd.read_file(gpd.datasets.get_path('naturalearth_lowres'))\n",
    "cities = gpd.read_file(gpd.datasets.get_path('naturalearth_cities'))"
   ]
  },
  {
   "cell_type": "code",
   "execution_count": 138,
   "id": "9985f0f0",
   "metadata": {},
   "outputs": [
    {
     "data": {
      "text/html": [
       "<div>\n",
       "<style scoped>\n",
       "    .dataframe tbody tr th:only-of-type {\n",
       "        vertical-align: middle;\n",
       "    }\n",
       "\n",
       "    .dataframe tbody tr th {\n",
       "        vertical-align: top;\n",
       "    }\n",
       "\n",
       "    .dataframe thead th {\n",
       "        text-align: right;\n",
       "    }\n",
       "</style>\n",
       "<table border=\"1\" class=\"dataframe\">\n",
       "  <thead>\n",
       "    <tr style=\"text-align: right;\">\n",
       "      <th></th>\n",
       "      <th>0</th>\n",
       "    </tr>\n",
       "  </thead>\n",
       "  <tbody>\n",
       "    <tr>\n",
       "      <th>0</th>\n",
       "      <td>POLYGON ((-22.90010550907429 -43.5809996356980...</td>\n",
       "    </tr>\n",
       "  </tbody>\n",
       "</table>\n",
       "</div>"
      ],
      "text/plain": [
       "                                                   0\n",
       "0  POLYGON ((-22.90010550907429 -43.5809996356980..."
      ]
     },
     "execution_count": 138,
     "metadata": {},
     "output_type": "execute_result"
    }
   ],
   "source": [
    "gpd_df[[0]].head(1)"
   ]
  },
  {
   "cell_type": "code",
   "execution_count": 142,
   "id": "52b9472d",
   "metadata": {},
   "outputs": [
    {
     "data": {
      "text/plain": [
       "[[3, -1, 2],\n",
       " [2, 0, -1],\n",
       " [3, 1, -1],\n",
       " [6, 1, 3, 2, 0, 5],\n",
       " [8, 5, 6, 4, 7],\n",
       " [-1, 0, 5, 8],\n",
       " [],\n",
       " [10, -1, 9],\n",
       " [15, 11, 12, 13, 14],\n",
       " [13, -1, 9, 12],\n",
       " [14, 4, 6, 1, -1, 13],\n",
       " [19, 17, 16, 18],\n",
       " [17, 10, 9, 12, 11, 16],\n",
       " [18, 15, 11, 16],\n",
       " [19, 7, 8, -1, 10, 17],\n",
       " [19, 7, 4, 14, 15, 18]]"
      ]
     },
     "execution_count": 142,
     "metadata": {},
     "output_type": "execute_result"
    }
   ],
   "source": [
    "vor.regions"
   ]
  }
 ],
 "metadata": {
  "kernelspec": {
   "display_name": "Python 3 (ipykernel)",
   "language": "python",
   "name": "python3"
  },
  "language_info": {
   "codemirror_mode": {
    "name": "ipython",
    "version": 3
   },
   "file_extension": ".py",
   "mimetype": "text/x-python",
   "name": "python",
   "nbconvert_exporter": "python",
   "pygments_lexer": "ipython3",
   "version": "3.8.12"
  },
  "toc": {
   "base_numbering": 1,
   "nav_menu": {},
   "number_sections": true,
   "sideBar": true,
   "skip_h1_title": false,
   "title_cell": "Table of Contents",
   "title_sidebar": "Contents",
   "toc_cell": false,
   "toc_position": {},
   "toc_section_display": true,
   "toc_window_display": false
  }
 },
 "nbformat": 4,
 "nbformat_minor": 5
}
